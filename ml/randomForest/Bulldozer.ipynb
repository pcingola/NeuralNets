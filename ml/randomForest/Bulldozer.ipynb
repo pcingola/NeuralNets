{
 "cells": [
  {
   "cell_type": "code",
   "execution_count": 1,
   "metadata": {},
   "outputs": [],
   "source": [
    "%load_ext autoreload\n",
    "%autoreload 2\n",
    "%matplotlib inline"
   ]
  },
  {
   "cell_type": "code",
   "execution_count": 7,
   "metadata": {},
   "outputs": [
    {
     "name": "stdout",
     "output_type": "stream",
     "text": [
      "Requirement already satisfied: numpy in /home/pcingola/.local/lib/python3.7/site-packages (1.16.2)\n",
      "Requirement already satisfied: matplotlib in /home/pcingola/.local/lib/python3.7/site-packages (3.0.3)\n",
      "Requirement already satisfied: numpy>=1.10.0 in /home/pcingola/.local/lib/python3.7/site-packages (from matplotlib) (1.16.2)\n",
      "Requirement already satisfied: cycler>=0.10 in /home/pcingola/.local/lib/python3.7/site-packages (from matplotlib) (0.10.0)\n",
      "Requirement already satisfied: python-dateutil>=2.1 in /home/pcingola/anaconda3/lib/python3.7/site-packages (from matplotlib) (2.8.0)\n",
      "Requirement already satisfied: kiwisolver>=1.0.1 in /home/pcingola/.local/lib/python3.7/site-packages (from matplotlib) (1.0.1)\n",
      "Requirement already satisfied: pyparsing!=2.0.4,!=2.1.2,!=2.1.6,>=2.0.1 in /home/pcingola/.local/lib/python3.7/site-packages (from matplotlib) (2.4.0)\n",
      "Requirement already satisfied: six in /home/pcingola/anaconda3/lib/python3.7/site-packages (from cycler>=0.10->matplotlib) (1.12.0)\n",
      "Requirement already satisfied: setuptools in /home/pcingola/anaconda3/lib/python3.7/site-packages (from kiwisolver>=1.0.1->matplotlib) (40.8.0)\n",
      "Requirement already satisfied: sklearn in /home/pcingola/anaconda3/lib/python3.7/site-packages (0.0)\n",
      "Requirement already satisfied: scikit-learn in /home/pcingola/anaconda3/lib/python3.7/site-packages (from sklearn) (0.20.3)\n",
      "Requirement already satisfied: numpy>=1.8.2 in /home/pcingola/.local/lib/python3.7/site-packages (from scikit-learn->sklearn) (1.16.2)\n",
      "Requirement already satisfied: scipy>=0.13.3 in /home/pcingola/anaconda3/lib/python3.7/site-packages (from scikit-learn->sklearn) (1.2.1)\n"
     ]
    }
   ],
   "source": [
    "!pip install numpy\n",
    "!pip install matplotlib\n",
    "!pip install sklearn\n",
    "!pip install torch\n",
    "!pip install nvidia-ml-py3 beautifulsoup4 fastprogress\n",
    "!pip install bottleneck dataclasses"
   ]
  },
  {
   "cell_type": "code",
   "execution_count": 22,
   "metadata": {},
   "outputs": [],
   "source": [
    "import matplotlib.pyplot as plt\n",
    "import numpy as np\n",
    "import pandas as pd\n",
    "\n",
    "from sklearn.ensemble import RandomForestRegressor\n",
    "from fastai.tabular import *"
   ]
  },
  {
   "cell_type": "code",
   "execution_count": 23,
   "metadata": {},
   "outputs": [],
   "source": [
    "# Download 'Blue book Bulldozer' dataset from Kallgle\n",
    "data_path = 'data/bulldozer/TrainAndValid.csv'"
   ]
  },
  {
   "cell_type": "code",
   "execution_count": 28,
   "metadata": {},
   "outputs": [],
   "source": [
    "df_raw = pd.read_csv(data_path, low_memory=False, parse_dates=['saledate'])"
   ]
  },
  {
   "cell_type": "code",
   "execution_count": 42,
   "metadata": {},
   "outputs": [],
   "source": [
    "df = df_raw.copy()\n",
    "procs = [FillMissing, Categorify]\n",
    "dep_var = 'SalePrice'\n",
    "cat_names = ['UsageBand', 'fiModelDesc', 'fiBaseModel', 'fiSecondaryDesc',\n",
    "       'fiModelSeries', 'fiModelDescriptor', 'ProductSize',\n",
    "       'fiProductClassDesc', 'state', 'ProductGroup', 'ProductGroupDesc',\n",
    "       'Drive_System', 'Enclosure', 'Forks', 'Pad_Type', 'Ride_Control',\n",
    "       'Stick', 'Transmission', 'Turbocharged', 'Blade_Extension',\n",
    "       'Blade_Width', 'Enclosure_Type', 'Engine_Horsepower', 'Hydraulics',\n",
    "       'Pushblock', 'Ripper', 'Scarifier', 'Tip_Control', 'Tire_Size',\n",
    "       'Coupler', 'Coupler_System', 'Grouser_Tracks', 'Hydraulics_Flow',\n",
    "       'Track_Type', 'Undercarriage_Pad_Width', 'Stick_Length', 'Thumb',\n",
    "       'Pattern_Changer', 'Grouser_Type', 'Backhoe_Mounting', 'Blade_Type',\n",
    "       'Travel_Controls', 'Differential_Type', 'Steering_Controls']\n",
    "\n",
    "df.SalePrice = np.log(df.SalePrice)\n",
    "df = add_datepart(df, 'saledate')\n",
    "valid_idx = range(len(df)-12000, len(df))"
   ]
  },
  {
   "cell_type": "code",
   "execution_count": 44,
   "metadata": {
    "scrolled": true
   },
   "outputs": [
    {
     "name": "stdout",
     "output_type": "stream",
     "text": [
      "['MachineHoursCurrentMeter', 'saleYear', 'saleIs_year_end', 'saleElapsed', 'SalesID', 'saleDayofyear', 'datasource', 'ModelID', 'saleDayofweek', 'saleMonth', 'saleIs_year_start', 'MachineID', 'auctioneerID', 'saleIs_quarter_end', 'saleIs_quarter_start', 'YearMade', 'saleWeek', 'saleIs_month_start', 'saleIs_month_end', 'saleDay']\n"
     ]
    }
   ],
   "source": [
    "data = TabularDataBunch.from_df(data_path, df, dep_var, valid_idx=valid_idx, procs=procs, cat_names=cat_names)\n",
    "print(data.train_ds.cont_names) "
   ]
  },
  {
   "cell_type": "code",
   "execution_count": 64,
   "metadata": {},
   "outputs": [],
   "source": [
    "# Convert Data tabular bunsh back into data frame\n",
    "# Reference https://forums.fast.ai/t/tabulardatabunch-to-pandas-dataframe/30947/6\n",
    "def get_proc_df(tll):\n",
    "    \"\"\"Get processed xs and ys from a tabular `LabelList` with a single value for label such as FloatList.\n",
    "       For example from `TabularDataBunch.train_ds`.\n",
    "       :param tll: A tabular `LabelList`. \n",
    "       :returns: A tuple of `(x,y)` where `x` is a pandas `DataFrame` and `y` is a numpy array.\n",
    "    \"\"\"\n",
    "    x_vals = np.concatenate([tll.x.codes, tll.x.conts], axis=1)\n",
    "    x_cols = tll.x.cat_names + tll.x.cont_names\n",
    "    x_df = pd.DataFrame(data=x_vals, columns=x_cols)[\n",
    "            [c for c in tll.inner_df.columns if c in x_cols] ] # Retain order\n",
    "    # Reconstruct ys to apply log if specified\n",
    "    y_vals = np.array([i.obj for i in tll.y])\n",
    "    return x_df, y_vals"
   ]
  },
  {
   "cell_type": "code",
   "execution_count": 118,
   "metadata": {},
   "outputs": [],
   "source": [
    "train_x_df, train_y_vals = get_proc_df(data.train_ds)\n",
    "val_x_df, val_y_vals = get_proc_df(data.valid_ds)\n",
    "\n",
    "# Sub-sample training set for speed\n",
    "train_subset = 50_000\n",
    "x_df = train_x_df[-train_subset:]\n",
    "y = train_y_vals[-train_subset:]"
   ]
  },
  {
   "cell_type": "code",
   "execution_count": 120,
   "metadata": {},
   "outputs": [],
   "source": [
    "# Functions to show training results\n",
    "\n",
    "def rmse(x, y): return math.sqrt(((x - y)**2).mean())\n",
    "\n",
    "def print_score(m):\n",
    "    ret = [rmse(m.predict(x_df), y), rmse(m.predict(val_x_df), val_y_vals), m.score(x_df, y), m.score(val_x_df, val_y_vals)]\n",
    "    print(ret)"
   ]
  },
  {
   "cell_type": "code",
   "execution_count": 122,
   "metadata": {},
   "outputs": [
    {
     "name": "stdout",
     "output_type": "stream",
     "text": [
      "[0.09880612472732792, 0.2791047882214843, 0.9819159185539353, 0.8571994597943042]\n"
     ]
    }
   ],
   "source": [
    "# Train model\n",
    "m = RandomForestRegressor(n_jobs=-1, n_estimators=10)\n",
    "m.fit(x_df, y)\n",
    "print_score(m)"
   ]
  },
  {
   "cell_type": "code",
   "execution_count": 127,
   "metadata": {},
   "outputs": [
    {
     "name": "stdout",
     "output_type": "stream",
     "text": [
      "[0.19045337955248948, 0.2638846046675666, 0.9328097759901903, 0.8723492462734117]\n"
     ]
    }
   ],
   "source": [
    "# Train another model\n",
    "m = RandomForestRegressor(n_jobs=-1, n_estimators=100, min_samples_leaf=10, max_features=0.5)\n",
    "m.fit(x_df, y)\n",
    "print_score(m)"
   ]
  },
  {
   "cell_type": "code",
   "execution_count": 128,
   "metadata": {},
   "outputs": [],
   "source": [
    "preds = np.stack([t.predict(val_x_df) for t in m.estimators_])"
   ]
  },
  {
   "cell_type": "code",
   "execution_count": 132,
   "metadata": {},
   "outputs": [
    {
     "data": {
      "text/plain": [
       "(10.1682299089543, 0.2572309599793674)"
      ]
     },
     "execution_count": 132,
     "metadata": {},
     "output_type": "execute_result"
    }
   ],
   "source": [
    "np.mean(preds[:,]), np.std(preds[:,0])"
   ]
  },
  {
   "cell_type": "code",
   "execution_count": null,
   "metadata": {},
   "outputs": [],
   "source": []
  }
 ],
 "metadata": {
  "kernelspec": {
   "display_name": "Python 3",
   "language": "python",
   "name": "python3"
  },
  "language_info": {
   "codemirror_mode": {
    "name": "ipython",
    "version": 3
   },
   "file_extension": ".py",
   "mimetype": "text/x-python",
   "name": "python",
   "nbconvert_exporter": "python",
   "pygments_lexer": "ipython3",
   "version": "3.7.3"
  }
 },
 "nbformat": 4,
 "nbformat_minor": 2
}
