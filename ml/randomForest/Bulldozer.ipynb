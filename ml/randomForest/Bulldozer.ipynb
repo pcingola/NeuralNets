{
 "cells": [
  {
   "cell_type": "markdown",
   "metadata": {},
   "source": [
    "# Bulldozers example"
   ]
  },
  {
   "cell_type": "markdown",
   "metadata": {},
   "source": [
    "### Initialize & install modules"
   ]
  },
  {
   "cell_type": "code",
   "execution_count": null,
   "metadata": {},
   "outputs": [],
   "source": [
    "%load_ext autoreload\n",
    "%autoreload 2\n",
    "%matplotlib inline"
   ]
  },
  {
   "cell_type": "code",
   "execution_count": 2,
   "metadata": {},
   "outputs": [],
   "source": [
    "!pip install numpy\n",
    "!pip install matplotlib\n",
    "!pip install sklearn\n",
    "!pip install torch\n",
    "!pip install nvidia-ml-py3 beautifulsoup4 fastprogress\n",
    "!pip install bottleneck dataclasses"
   ]
  },
  {
   "cell_type": "code",
   "execution_count": 3,
   "metadata": {},
   "outputs": [],
   "source": [
    "import matplotlib.pyplot as plt\n",
    "import numpy as np\n",
    "import pandas as pd\n",
    "\n",
    "from sklearn.ensemble import RandomForestRegressor\n",
    "from fastai.tabular import *"
   ]
  },
  {
   "cell_type": "markdown",
   "metadata": {},
   "source": [
    "# Load data"
   ]
  },
  {
   "cell_type": "code",
   "execution_count": 5,
   "metadata": {},
   "outputs": [],
   "source": [
    "# Download 'Blue book Bulldozer' dataset from Kallgle\n",
    "data_path = 'data/bulldozer/TrainAndValid.csv'"
   ]
  },
  {
   "cell_type": "code",
   "execution_count": 7,
   "metadata": {},
   "outputs": [],
   "source": [
    "# When loading, make sure we parse 'saledate' column\n",
    "df_raw = pd.read_csv(data_path, low_memory=False, parse_dates=['saledate'])"
   ]
  },
  {
   "cell_type": "code",
   "execution_count": 144,
   "metadata": {},
   "outputs": [],
   "source": [
    "df = df_raw.copy()"
   ]
  },
  {
   "cell_type": "markdown",
   "metadata": {},
   "source": [
    "### Define dependent variable"
   ]
  },
  {
   "cell_type": "code",
   "execution_count": 8,
   "metadata": {},
   "outputs": [],
   "source": [
    "dep_var = 'SalePrice'"
   ]
  },
  {
   "cell_type": "code",
   "execution_count": 9,
   "metadata": {},
   "outputs": [],
   "source": [
    "# Use log of salesprice instead of saleprice (as defined in the problem description)\n",
    "df.SalePrice = np.log(df.SalePrice)"
   ]
  },
  {
   "cell_type": "markdown",
   "metadata": {},
   "source": [
    "### Convert categorical entries"
   ]
  },
  {
   "cell_type": "code",
   "execution_count": 10,
   "metadata": {},
   "outputs": [],
   "source": [
    "cat_names = ['UsageBand', 'fiModelDesc', 'fiBaseModel', 'fiSecondaryDesc',\n",
    "       'fiModelSeries', 'fiModelDescriptor', 'ProductSize',\n",
    "       'fiProductClassDesc', 'state', 'ProductGroup', 'ProductGroupDesc',\n",
    "       'Drive_System', 'Enclosure', 'Forks', 'Pad_Type', 'Ride_Control',\n",
    "       'Stick', 'Transmission', 'Turbocharged', 'Blade_Extension',\n",
    "       'Blade_Width', 'Enclosure_Type', 'Engine_Horsepower', 'Hydraulics',\n",
    "       'Pushblock', 'Ripper', 'Scarifier', 'Tip_Control', 'Tire_Size',\n",
    "       'Coupler', 'Coupler_System', 'Grouser_Tracks', 'Hydraulics_Flow',\n",
    "       'Track_Type', 'Undercarriage_Pad_Width', 'Stick_Length', 'Thumb',\n",
    "       'Pattern_Changer', 'Grouser_Type', 'Backhoe_Mounting', 'Blade_Type',\n",
    "       'Travel_Controls', 'Differential_Type', 'Steering_Controls']"
   ]
  },
  {
   "cell_type": "code",
   "execution_count": 145,
   "metadata": {},
   "outputs": [],
   "source": [
    "sanitize_valid_chars = set('-_.abcdefghijklmnopqrstuvwxyzABCDEFGHIJKLMNOPQRSTUVWXYZ0123456789')\n",
    "\n",
    "def sanitize(s):\n",
    "    ''' Sanitize a string by only allowing \"valid\" characters '''\n",
    "    return ''.join(c for c in str(s) if c in sanitize_valid_chars)"
   ]
  },
  {
   "cell_type": "code",
   "execution_count": 146,
   "metadata": {},
   "outputs": [],
   "source": [
    "def rename_category_cols(df, prepend):\n",
    "    ''' Rename dataFrame columns by prepending a string and sanitizing the name '''\n",
    "    names = dict()\n",
    "    for c in df.columns:\n",
    "        name = f\"{prepend}{sanitize(c)}\"\n",
    "        names[c] = name\n",
    "    df.rename(columns=names, inplace=True)\n",
    "    return df\n"
   ]
  },
  {
   "cell_type": "code",
   "execution_count": 170,
   "metadata": {},
   "outputs": [],
   "source": [
    "def one_hot(df, max_categories=7):\n",
    "    '''\n",
    "    Change all columns in dataFrame having a cardinaliy less\n",
    "    than 'max_categories' to 'one hot' encoding\n",
    "    '''\n",
    "    to_replace = dict()\n",
    "    for c in df.columns:\n",
    "        xi = df[c]\n",
    "        if xi.dtype == 'O':\n",
    "            values = xi.unique()\n",
    "            count_cats = len(values)\n",
    "            if count_cats <= max_categories:\n",
    "                has_na = (xi.isna().sum() > 0)\n",
    "                xi_dummies = pd.get_dummies(xi, dummy_na=has_na)\n",
    "                to_replace[c] = rename_category_cols(xi_dummies, f\"{c}_\")\n",
    "                # print(f\"Column: {c}\\n\\tcount_cats: {count_cats}\\n\\tvalues: {values}\\n\\tNew columns: {xi_dummies.columns}\")\n",
    "    \n",
    "    # Make all replacements: Drop old columns, join new ones\n",
    "    df_new = df.copy()\n",
    "    print(f\"Before join: {df_new.columns}\")\n",
    "    for c in to_replace:\n",
    "        df_new = df_new.join(to_replace[c])\n",
    "    print(f\"Before drop: {df_new.columns}\\n\\t{list(to_replace.keys())}\")\n",
    "    df_new.drop(list(to_replace.keys()), axis=1, inplace=True)\n",
    "    return df_new\n"
   ]
  },
  {
   "cell_type": "code",
   "execution_count": 171,
   "metadata": {},
   "outputs": [
    {
     "name": "stdout",
     "output_type": "stream",
     "text": [
      "Before join: Index(['SalesID', 'SalePrice', 'MachineID', 'ModelID', 'datasource',\n",
      "       'auctioneerID', 'YearMade', 'MachineHoursCurrentMeter', 'UsageBand',\n",
      "       'saledate', 'fiModelDesc', 'fiBaseModel', 'fiSecondaryDesc',\n",
      "       'fiModelSeries', 'fiModelDescriptor', 'ProductSize',\n",
      "       'fiProductClassDesc', 'state', 'ProductGroup', 'ProductGroupDesc',\n",
      "       'Drive_System', 'Enclosure', 'Forks', 'Pad_Type', 'Ride_Control',\n",
      "       'Stick', 'Transmission', 'Turbocharged', 'Blade_Extension',\n",
      "       'Blade_Width', 'Enclosure_Type', 'Engine_Horsepower', 'Hydraulics',\n",
      "       'Pushblock', 'Ripper', 'Scarifier', 'Tip_Control', 'Tire_Size',\n",
      "       'Coupler', 'Coupler_System', 'Grouser_Tracks', 'Hydraulics_Flow',\n",
      "       'Track_Type', 'Undercarriage_Pad_Width', 'Stick_Length', 'Thumb',\n",
      "       'Pattern_Changer', 'Grouser_Type', 'Backhoe_Mounting', 'Blade_Type',\n",
      "       'Travel_Controls', 'Differential_Type', 'Steering_Controls'],\n",
      "      dtype='object')\n",
      "Before drop: Index(['SalesID', 'SalePrice', 'MachineID', 'ModelID', 'datasource',\n",
      "       'auctioneerID', 'YearMade', 'MachineHoursCurrentMeter', 'UsageBand',\n",
      "       'saledate',\n",
      "       ...\n",
      "       'Differential_Type_Locking', 'Differential_Type_NoSpin',\n",
      "       'Differential_Type_Standard', 'Differential_Type_nan',\n",
      "       'Steering_Controls_CommandControl', 'Steering_Controls_Conventional',\n",
      "       'Steering_Controls_FourWheelStandard', 'Steering_Controls_No',\n",
      "       'Steering_Controls_Wheel', 'Steering_Controls_nan'],\n",
      "      dtype='object', length=181)\n",
      "\t['UsageBand', 'ProductSize', 'ProductGroup', 'ProductGroupDesc', 'Drive_System', 'Enclosure', 'Forks', 'Pad_Type', 'Ride_Control', 'Stick', 'Turbocharged', 'Blade_Extension', 'Blade_Width', 'Enclosure_Type', 'Engine_Horsepower', 'Pushblock', 'Ripper', 'Scarifier', 'Tip_Control', 'Coupler', 'Coupler_System', 'Grouser_Tracks', 'Hydraulics_Flow', 'Track_Type', 'Thumb', 'Pattern_Changer', 'Grouser_Type', 'Backhoe_Mounting', 'Differential_Type', 'Steering_Controls']\n"
     ]
    }
   ],
   "source": [
    "df_new = one_hot(df)"
   ]
  },
  {
   "cell_type": "code",
   "execution_count": 172,
   "metadata": {},
   "outputs": [
    {
     "data": {
      "text/plain": [
       "Index(['SalesID', 'SalePrice', 'MachineID', 'ModelID', 'datasource',\n",
       "       'auctioneerID', 'YearMade', 'MachineHoursCurrentMeter', 'saledate',\n",
       "       'fiModelDesc',\n",
       "       ...\n",
       "       'Differential_Type_Locking', 'Differential_Type_NoSpin',\n",
       "       'Differential_Type_Standard', 'Differential_Type_nan',\n",
       "       'Steering_Controls_CommandControl', 'Steering_Controls_Conventional',\n",
       "       'Steering_Controls_FourWheelStandard', 'Steering_Controls_No',\n",
       "       'Steering_Controls_Wheel', 'Steering_Controls_nan'],\n",
       "      dtype='object', length=151)"
      ]
     },
     "execution_count": 172,
     "metadata": {},
     "output_type": "execute_result"
    }
   ],
   "source": [
    "df_new.columns"
   ]
  },
  {
   "cell_type": "code",
   "execution_count": 173,
   "metadata": {},
   "outputs": [
    {
     "data": {
      "text/plain": [
       "SalesID                                         int64\n",
       "SalePrice                                     float64\n",
       "MachineID                                       int64\n",
       "ModelID                                         int64\n",
       "datasource                                      int64\n",
       "auctioneerID                                  float64\n",
       "YearMade                                        int64\n",
       "MachineHoursCurrentMeter                      float64\n",
       "saledate                               datetime64[ns]\n",
       "fiModelDesc                                    object\n",
       "fiBaseModel                                    object\n",
       "fiSecondaryDesc                                object\n",
       "fiModelSeries                                  object\n",
       "fiModelDescriptor                              object\n",
       "fiProductClassDesc                             object\n",
       "state                                          object\n",
       "Transmission                                   object\n",
       "Hydraulics                                     object\n",
       "Tire_Size                                      object\n",
       "Undercarriage_Pad_Width                        object\n",
       "Stick_Length                                   object\n",
       "Blade_Type                                     object\n",
       "Travel_Controls                                object\n",
       "UsageBand_High                                  uint8\n",
       "UsageBand_Low                                   uint8\n",
       "UsageBand_Medium                                uint8\n",
       "UsageBand_nan                                   uint8\n",
       "ProductSize_Compact                             uint8\n",
       "ProductSize_Large                               uint8\n",
       "ProductSize_LargeMedium                         uint8\n",
       "                                            ...      \n",
       "Hydraulics_Flow_nan                             uint8\n",
       "Track_Type_Rubber                               uint8\n",
       "Track_Type_Steel                                uint8\n",
       "Track_Type_nan                                  uint8\n",
       "Thumb_Hydraulic                                 uint8\n",
       "Thumb_Manual                                    uint8\n",
       "Thumb_NoneorUnspecified                         uint8\n",
       "Thumb_nan                                       uint8\n",
       "Pattern_Changer_No                              uint8\n",
       "Pattern_Changer_NoneorUnspecified               uint8\n",
       "Pattern_Changer_Yes                             uint8\n",
       "Pattern_Changer_nan                             uint8\n",
       "Grouser_Type_Double                             uint8\n",
       "Grouser_Type_Single                             uint8\n",
       "Grouser_Type_Triple                             uint8\n",
       "Grouser_Type_nan                                uint8\n",
       "Backhoe_Mounting_NoneorUnspecified              uint8\n",
       "Backhoe_Mounting_Yes                            uint8\n",
       "Backhoe_Mounting_nan                            uint8\n",
       "Differential_Type_LimitedSlip                   uint8\n",
       "Differential_Type_Locking                       uint8\n",
       "Differential_Type_NoSpin                        uint8\n",
       "Differential_Type_Standard                      uint8\n",
       "Differential_Type_nan                           uint8\n",
       "Steering_Controls_CommandControl                uint8\n",
       "Steering_Controls_Conventional                  uint8\n",
       "Steering_Controls_FourWheelStandard             uint8\n",
       "Steering_Controls_No                            uint8\n",
       "Steering_Controls_Wheel                         uint8\n",
       "Steering_Controls_nan                           uint8\n",
       "Length: 151, dtype: object"
      ]
     },
     "execution_count": 173,
     "metadata": {},
     "output_type": "execute_result"
    }
   ],
   "source": [
    "df_new.dtypes"
   ]
  },
  {
   "cell_type": "code",
   "execution_count": 45,
   "metadata": {},
   "outputs": [
    {
     "ename": "NameError",
     "evalue": "name 'x' is not defined",
     "output_type": "error",
     "traceback": [
      "\u001b[0;31m---------------------------------------------------------------------------\u001b[0m",
      "\u001b[0;31mNameError\u001b[0m                                 Traceback (most recent call last)",
      "\u001b[0;32m<ipython-input-45-ded0a0fbc1ae>\u001b[0m in \u001b[0;36m<module>\u001b[0;34m\u001b[0m\n\u001b[0;32m----> 1\u001b[0;31m \u001b[0mcategoricalize\u001b[0m\u001b[0;34m(\u001b[0m\u001b[0mdf\u001b[0m\u001b[0;34m,\u001b[0m \u001b[0mcat_names\u001b[0m\u001b[0;34m)\u001b[0m\u001b[0;34m\u001b[0m\u001b[0;34m\u001b[0m\u001b[0m\n\u001b[0m",
      "\u001b[0;32m<ipython-input-41-364150704684>\u001b[0m in \u001b[0;36mcategoricalize\u001b[0;34m(df, cat_names)\u001b[0m\n\u001b[1;32m      1\u001b[0m \u001b[0;32mdef\u001b[0m \u001b[0mcategoricalize\u001b[0m\u001b[0;34m(\u001b[0m\u001b[0mdf\u001b[0m\u001b[0;34m,\u001b[0m \u001b[0mcat_names\u001b[0m\u001b[0;34m)\u001b[0m\u001b[0;34m:\u001b[0m\u001b[0;34m\u001b[0m\u001b[0;34m\u001b[0m\u001b[0m\n\u001b[1;32m      2\u001b[0m     \u001b[0;32mfor\u001b[0m \u001b[0mc\u001b[0m \u001b[0;32min\u001b[0m \u001b[0mdf\u001b[0m\u001b[0;34m.\u001b[0m\u001b[0mcolumns\u001b[0m\u001b[0;34m:\u001b[0m\u001b[0;34m\u001b[0m\u001b[0;34m\u001b[0m\u001b[0m\n\u001b[0;32m----> 3\u001b[0;31m         \u001b[0mprint\u001b[0m\u001b[0;34m(\u001b[0m\u001b[0;34mf\"Column: {c}: {x[c].dtype}\"\u001b[0m\u001b[0;34m)\u001b[0m\u001b[0;34m\u001b[0m\u001b[0;34m\u001b[0m\u001b[0m\n\u001b[0m\u001b[1;32m      4\u001b[0m         \u001b[0;32mif\u001b[0m \u001b[0mx\u001b[0m\u001b[0;34m[\u001b[0m\u001b[0mc\u001b[0m\u001b[0;34m]\u001b[0m\u001b[0;34m.\u001b[0m\u001b[0mdtype\u001b[0m \u001b[0;34m==\u001b[0m \u001b[0;34m'O'\u001b[0m\u001b[0;34m:\u001b[0m\u001b[0;34m\u001b[0m\u001b[0;34m\u001b[0m\u001b[0m\n\u001b[1;32m      5\u001b[0m             \u001b[0mprint\u001b[0m\u001b[0;34m(\u001b[0m\u001b[0;34mf\"Object column: {c}: {x[c].dtype}\"\u001b[0m\u001b[0;34m)\u001b[0m\u001b[0;34m\u001b[0m\u001b[0;34m\u001b[0m\u001b[0m\n",
      "\u001b[0;31mNameError\u001b[0m: name 'x' is not defined"
     ]
    }
   ],
   "source": []
  },
  {
   "cell_type": "markdown",
   "metadata": {},
   "source": [
    "### Split date into several features"
   ]
  },
  {
   "cell_type": "code",
   "execution_count": null,
   "metadata": {},
   "outputs": [],
   "source": [
    "df = add_datepart(df, 'saledate')"
   ]
  },
  {
   "cell_type": "code",
   "execution_count": null,
   "metadata": {},
   "outputs": [],
   "source": [
    "valid_idx = range(len(df)-12000, len(df))"
   ]
  },
  {
   "cell_type": "code",
   "execution_count": null,
   "metadata": {},
   "outputs": [],
   "source": []
  },
  {
   "cell_type": "markdown",
   "metadata": {},
   "source": [
    "### Add columns for 'NA'"
   ]
  },
  {
   "cell_type": "code",
   "execution_count": null,
   "metadata": {},
   "outputs": [],
   "source": []
  },
  {
   "cell_type": "code",
   "execution_count": null,
   "metadata": {},
   "outputs": [],
   "source": []
  },
  {
   "cell_type": "code",
   "execution_count": null,
   "metadata": {},
   "outputs": [],
   "source": []
  },
  {
   "cell_type": "markdown",
   "metadata": {},
   "source": [
    "# OLD CODE"
   ]
  },
  {
   "cell_type": "code",
   "execution_count": null,
   "metadata": {
    "scrolled": true
   },
   "outputs": [],
   "source": [
    "data = TabularDataBunch.from_df(data_path, df, dep_var, valid_idx=valid_idx, procs=procs, cat_names=cat_names)\n",
    "print(data.train_ds.cont_names) "
   ]
  },
  {
   "cell_type": "code",
   "execution_count": null,
   "metadata": {},
   "outputs": [],
   "source": [
    "# Convert Data tabular bunsh back into data frame\n",
    "# Reference https://forums.fast.ai/t/tabulardatabunch-to-pandas-dataframe/30947/6\n",
    "def get_proc_df(tll):\n",
    "    \"\"\"Get processed xs and ys from a tabular `LabelList` with a single value for label such as FloatList.\n",
    "       For example from `TabularDataBunch.train_ds`.\n",
    "       :param tll: A tabular `LabelList`. \n",
    "       :returns: A tuple of `(x,y)` where `x` is a pandas `DataFrame` and `y` is a numpy array.\n",
    "    \"\"\"\n",
    "    x_vals = np.concatenate([tll.x.codes, tll.x.conts], axis=1)\n",
    "    x_cols = tll.x.cat_names + tll.x.cont_names\n",
    "    x_df = pd.DataFrame(data=x_vals, columns=x_cols)[\n",
    "            [c for c in tll.inner_df.columns if c in x_cols] ] # Retain order\n",
    "    # Reconstruct ys to apply log if specified\n",
    "    y_vals = np.array([i.obj for i in tll.y])\n",
    "    return x_df, y_vals"
   ]
  },
  {
   "cell_type": "code",
   "execution_count": null,
   "metadata": {},
   "outputs": [],
   "source": [
    "train_x_df, train_y_vals = get_proc_df(data.train_ds)\n",
    "val_x_df, val_y_vals = get_proc_df(data.valid_ds)\n",
    "\n",
    "# Sub-sample training set for speed\n",
    "train_subset = 50_000\n",
    "x_df = train_x_df[-train_subset:]\n",
    "y = train_y_vals[-train_subset:]"
   ]
  },
  {
   "cell_type": "code",
   "execution_count": null,
   "metadata": {},
   "outputs": [],
   "source": [
    "# Functions to show training results\n",
    "\n",
    "def rmse(x, y): return math.sqrt(((x - y)**2).mean())\n",
    "\n",
    "def print_score(m):\n",
    "    ret = [rmse(m.predict(x_df), y), rmse(m.predict(val_x_df), val_y_vals), m.score(x_df, y), m.score(val_x_df, val_y_vals)]\n",
    "    print(ret)\n",
    "    return ret"
   ]
  },
  {
   "cell_type": "code",
   "execution_count": null,
   "metadata": {},
   "outputs": [],
   "source": [
    "x_df.head()"
   ]
  },
  {
   "cell_type": "code",
   "execution_count": null,
   "metadata": {},
   "outputs": [],
   "source": [
    "# Train model: Zero (exploratory analysis)\n",
    "m = RandomForestRegressor(n_jobs=-1, n_estimators=1, max_depth=3, bootstrap=False)\n",
    "m.fit(x_df, y)\n",
    "print_score(m)\n"
   ]
  },
  {
   "cell_type": "code",
   "execution_count": null,
   "metadata": {},
   "outputs": [],
   "source": [
    "# Export the tree to a graphviz 'dot' format\n",
    "from sklearn.tree import export_graphviz\n",
    "from IPython import display\n",
    "\n",
    "str_tree = export_graphviz(m.estimators_[0],\n",
    "                           out_file='tree.dot',\n",
    "                           feature_names=x_df.columns,\n",
    "                           filled=True,\n",
    "                           rounded=True)\n",
    "\n",
    "# Convert 'dot' to 'png'\n",
    "!dot -Tpng 'tree.dot' -o 'tree.png'\n",
    "\n",
    "# Show image\n",
    "from IPython.display import Image\n",
    "Image(filename='tree.png') "
   ]
  },
  {
   "cell_type": "code",
   "execution_count": null,
   "metadata": {},
   "outputs": [],
   "source": [
    "# Train model: 1\n",
    "m = RandomForestRegressor(n_jobs=-1, n_estimators=10)\n",
    "m.fit(x_df, y)\n",
    "print_score(m)"
   ]
  },
  {
   "cell_type": "code",
   "execution_count": null,
   "metadata": {},
   "outputs": [],
   "source": [
    "# Train model: 2\n",
    "m = RandomForestRegressor(n_jobs=-1, n_estimators=100, min_samples_leaf=10, max_features=0.5)\n",
    "m.fit(x_df, y)\n",
    "print_score(m)"
   ]
  },
  {
   "cell_type": "code",
   "execution_count": null,
   "metadata": {},
   "outputs": [],
   "source": [
    "preds = np.stack([t.predict(val_x_df) for t in m.estimators_])"
   ]
  },
  {
   "cell_type": "code",
   "execution_count": null,
   "metadata": {},
   "outputs": [],
   "source": [
    "np.mean(preds[:,]), np.std(preds[:,0])"
   ]
  },
  {
   "cell_type": "code",
   "execution_count": null,
   "metadata": {},
   "outputs": [],
   "source": [
    "m = RandomForestRegressor(n_jobs=-1, n_estimators=40, min_samples_leaf=3, max_features=0.5)\n",
    "%time m.fit(x_df, y)\n",
    "print_score(m)"
   ]
  },
  {
   "cell_type": "code",
   "execution_count": null,
   "metadata": {},
   "outputs": [],
   "source": [
    "def one_hot(x, max_categories=10):\n",
    "    for c in x.columns:\n",
    "        values = x_df[c].unique()\n",
    "        count_cats = len(values)\n",
    "        if count_cats <= max_categories: \n",
    "            print(f\"{c}: {count_cats}\\t{values}\")"
   ]
  },
  {
   "cell_type": "code",
   "execution_count": null,
   "metadata": {},
   "outputs": [],
   "source": [
    "values = x_df.ProductSize.unique()\n",
    "len(values)"
   ]
  },
  {
   "cell_type": "code",
   "execution_count": null,
   "metadata": {},
   "outputs": [],
   "source": [
    "one_hot(x_df)"
   ]
  },
  {
   "cell_type": "code",
   "execution_count": null,
   "metadata": {},
   "outputs": [],
   "source": []
  }
 ],
 "metadata": {
  "kernelspec": {
   "display_name": "Python 3",
   "language": "python",
   "name": "python3"
  },
  "language_info": {
   "codemirror_mode": {
    "name": "ipython",
    "version": 3
   },
   "file_extension": ".py",
   "mimetype": "text/x-python",
   "name": "python",
   "nbconvert_exporter": "python",
   "pygments_lexer": "ipython3",
   "version": "3.7.3"
  }
 },
 "nbformat": 4,
 "nbformat_minor": 2
}
