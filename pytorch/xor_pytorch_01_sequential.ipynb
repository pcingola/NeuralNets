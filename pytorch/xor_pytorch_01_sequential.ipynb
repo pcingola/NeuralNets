{
 "cells": [
  {
   "cell_type": "markdown",
   "metadata": {},
   "source": [
    "# Xor with Pytorch: Sequential model\n",
    "\n",
    "In this example, we create a simple neural netwok using (basic) Pytorch.\n",
    "The network is trained on the XOR problem.\n",
    "\n",
    "We use a `Sequential` model\n"
   ]
  },
  {
   "cell_type": "code",
   "execution_count": null,
   "metadata": {},
   "outputs": [],
   "source": [
    "%load_ext autoreload\n",
    "%autoreload 2\n",
    "%matplotlib inline"
   ]
  },
  {
   "cell_type": "code",
   "execution_count": null,
   "metadata": {},
   "outputs": [],
   "source": [
    "# Imports\n",
    "import pandas as pd\n",
    "import torch\n",
    "import torch.nn as nn\n",
    "import torch.nn.functional as F\n",
    "import torch.optim as optim"
   ]
  },
  {
   "cell_type": "code",
   "execution_count": null,
   "metadata": {},
   "outputs": [],
   "source": [
    "def xor_data():\n",
    "    \"\"\" Crete dataset \"\"\"\n",
    "    x = torch.Tensor([[-1, -1], [-1, 1], [1, -1], [1, 1]]) * 0.9\n",
    "    y = torch.Tensor([[-1, 1, 1, -1]]) * 0.9\n",
    "    return x, y\n",
    "\n",
    "def train(model, x_train, y_train, epochs, lr, momentum):\n",
    "    device = torch.device(\"cpu\")\n",
    "    model.train()\n",
    "    optimizer = optim.SGD(model.parameters(), lr=lr, momentum=momentum)\n",
    "    for n_epoch in range(epochs):\n",
    "        optimizer.zero_grad()\n",
    "        output = model(x_train)\n",
    "        loss = F.mse_loss(output.squeeze(), y_train.squeeze())\n",
    "        loss.backward()\n",
    "        optimizer.step()\n",
    "        if n_epoch % 10 == 0:\n",
    "            print(f\"Train Epoch: {n_epoch} / {epochs}\\tLoss: {loss.item():.6f}\")"
   ]
  },
  {
   "cell_type": "code",
   "execution_count": null,
   "metadata": {},
   "outputs": [],
   "source": [
    "# Create data\n",
    "x_train, y_train = xor_data()\n",
    "\n",
    "# Create model\n",
    "model = nn.Sequential(nn.Linear(2,2), nn.Tanh(), nn.Linear(2,1), nn.Tanh())\n",
    "\n",
    "# Train model\n",
    "train(model, x_train, y_train, epochs=50, lr=1.0, momentum=0.8)"
   ]
  },
  {
   "cell_type": "code",
   "execution_count": null,
   "metadata": {},
   "outputs": [],
   "source": [
    "# Predict\n",
    "model(x_train)"
   ]
  },
  {
   "cell_type": "code",
   "execution_count": null,
   "metadata": {},
   "outputs": [],
   "source": []
  }
 ],
 "metadata": {
  "kernelspec": {
   "display_name": "mlgen",
   "language": "python",
   "name": "mlgen"
  },
  "language_info": {
   "codemirror_mode": {
    "name": "ipython",
    "version": 3
   },
   "file_extension": ".py",
   "mimetype": "text/x-python",
   "name": "python",
   "nbconvert_exporter": "python",
   "pygments_lexer": "ipython3",
   "version": "3.7.3"
  }
 },
 "nbformat": 4,
 "nbformat_minor": 2
}
