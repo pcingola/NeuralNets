{
 "cells": [
  {
   "cell_type": "markdown",
   "metadata": {},
   "source": [
    "# Xor with Pytorch: Dataset and DataLoader\n",
    "\n",
    "We now add a `Dataset` and wrap it in a `Dataloader`\n",
    "\n",
    "**Note:** Obviously, creating a custom Dataset is not necesary for such a simple network, this is only for demo/learning pourposes"
   ]
  },
  {
   "cell_type": "code",
   "execution_count": null,
   "metadata": {},
   "outputs": [],
   "source": [
    "%load_ext autoreload\n",
    "%autoreload 2\n",
    "%matplotlib inline"
   ]
  },
  {
   "cell_type": "code",
   "execution_count": null,
   "metadata": {},
   "outputs": [],
   "source": [
    "# Imports\n",
    "import numpy as np\n",
    "import torch\n",
    "import torch.nn as nn\n",
    "import torch.nn.functional as F\n",
    "import torch.optim as optim\n",
    "\n",
    "from pathlib import Path\n",
    "from torch.utils.data import Dataset, DataLoader"
   ]
  },
  {
   "cell_type": "markdown",
   "metadata": {},
   "source": [
    "Create dataset"
   ]
  },
  {
   "cell_type": "code",
   "execution_count": null,
   "metadata": {},
   "outputs": [],
   "source": [
    "class DatasetXor(Dataset):\n",
    "    \"\"\" \n",
    "    Custom dataset: We have to override methods __len__ and __getitem__\n",
    "    \"\"\"\n",
    "    def __init__(self, num):\n",
    "        x1 = np.random.randn(num)\n",
    "        x2 = np.random.randn(num)\n",
    "        x = np.stack([x1, x2], axis=1).astype('float32')\n",
    "        y = (2.0 * np.logical_xor(x1 >= 0, x2 >= 0).astype('float32') - 1.0) * 0.9\n",
    "        self.x, self.y = torch.Tensor(x), torch.Tensor(y)\n",
    "    \n",
    "    def __len__(self):\n",
    "        return len(self.y)\n",
    "\n",
    "    def __getitem__(self, idx):\n",
    "        return (self.x[idx], self.y[idx])"
   ]
  },
  {
   "cell_type": "markdown",
   "metadata": {},
   "source": [
    "Create model"
   ]
  },
  {
   "cell_type": "code",
   "execution_count": null,
   "metadata": {},
   "outputs": [],
   "source": [
    "# Module class example. It does exactly the same as:\n",
    "#     nn.Sequential(nn.Linear(...), nn.Tanh(), nn.Linear(...), nn.Tanh())\n",
    "class Net(nn.Module):\n",
    "    def __init__(self):\n",
    "        super(Net, self).__init__()\n",
    "        self.layer_1 = nn.Linear(2,3)\n",
    "        self.layer_2 = nn.Linear(3,1)\n",
    "\n",
    "    def forward(self, x):\n",
    "        x = self.layer_1(x)\n",
    "        x = torch.tanh(x)\n",
    "        x = self.layer_2(x)\n",
    "        out = torch.tanh(x)\n",
    "        return out"
   ]
  },
  {
   "cell_type": "markdown",
   "metadata": {},
   "source": [
    "Train model: Now we can use Dataloader's batch"
   ]
  },
  {
   "cell_type": "code",
   "execution_count": null,
   "metadata": {},
   "outputs": [],
   "source": [
    "def train(model, dataloader, epochs, lr, momentum):\n",
    "    device = torch.device(\"cpu\")\n",
    "    model.train()\n",
    "    optimizer = optim.SGD(model.parameters(), lr=lr, momentum=momentum)\n",
    "    for n_epoch in range(epochs):\n",
    "        for n_batch, batch in enumerate(dataloader):\n",
    "            x, y = batch\n",
    "            optimizer.zero_grad()\n",
    "            output = model(x)\n",
    "            loss = F.mse_loss(output.squeeze(), y)\n",
    "            loss.backward()\n",
    "            optimizer.step()\n",
    "            if n_epoch % 50 == 0 and n_batch == 0:\n",
    "                print(f\"Train Epoch: {n_epoch} / {epochs}\\tn_batch: {n_batch}\\tLoss: {loss.item():.6f}\")"
   ]
  },
  {
   "cell_type": "markdown",
   "metadata": {},
   "source": [
    "### Run"
   ]
  },
  {
   "cell_type": "code",
   "execution_count": null,
   "metadata": {},
   "outputs": [],
   "source": [
    "dataset_xor = DatasetXor(1000)\n",
    "dataloader = DataLoader(dataset_xor, batch_size=100)\n",
    "model = Net()\n",
    "train(model, dataloader, epochs=1000, lr=0.05, momentum=0.8)"
   ]
  },
  {
   "cell_type": "markdown",
   "metadata": {},
   "source": [
    "### Show results"
   ]
  },
  {
   "cell_type": "code",
   "execution_count": null,
   "metadata": {},
   "outputs": [],
   "source": [
    "x_train, y_train = dataset_xor.x, dataset_xor.y\n",
    "yhat = model(x_train)\n",
    "for i in range(len(yhat)):\n",
    "    print(f\"{y_train[i]}\\t{yhat[i]}\\t{x_train[i]}\")"
   ]
  },
  {
   "cell_type": "code",
   "execution_count": null,
   "metadata": {},
   "outputs": [],
   "source": []
  },
  {
   "cell_type": "code",
   "execution_count": null,
   "metadata": {},
   "outputs": [],
   "source": []
  }
 ],
 "metadata": {
  "kernelspec": {
   "display_name": "mlgen",
   "language": "python",
   "name": "mlgen"
  },
  "language_info": {
   "codemirror_mode": {
    "name": "ipython",
    "version": 3
   },
   "file_extension": ".py",
   "mimetype": "text/x-python",
   "name": "python",
   "nbconvert_exporter": "python",
   "pygments_lexer": "ipython3",
   "version": "3.7.3"
  }
 },
 "nbformat": 4,
 "nbformat_minor": 2
}
