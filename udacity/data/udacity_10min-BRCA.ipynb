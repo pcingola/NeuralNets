{
 "cells": [
  {
   "cell_type": "code",
   "execution_count": null,
   "metadata": {},
   "outputs": [],
   "source": [
    "%load_ext autoreload\n",
    "%autoreload 2\n",
    "%matplotlib inline\n",
    "\n",
    "import matplotlib.pyplot as plt\n",
    "import numpy as np\n",
    "import pandas as pd\n",
    "import sys\n",
    "import os"
   ]
  },
  {
   "cell_type": "markdown",
   "metadata": {},
   "source": [
    "# Load & preprocess mutation data"
   ]
  },
  {
   "cell_type": "code",
   "execution_count": null,
   "metadata": {},
   "outputs": [],
   "source": [
    "df_brca = pd.read_csv(\"data/tcga_brca_mutations_by_gene.csv\", index_col=0)"
   ]
  },
  {
   "cell_type": "code",
   "execution_count": null,
   "metadata": {},
   "outputs": [],
   "source": [
    "df_brca.head()"
   ]
  },
  {
   "cell_type": "code",
   "execution_count": null,
   "metadata": {},
   "outputs": [],
   "source": [
    "# Mutation data is {0, 1}, we don't need 64 bits\n",
    "df = df_brca.astype('int8')"
   ]
  },
  {
   "cell_type": "markdown",
   "metadata": {},
   "source": [
    "# Prepare cathegories"
   ]
  },
  {
   "cell_type": "markdown",
   "metadata": {},
   "source": [
    "We want to know whether a sample belongs to a tumor or normal tissue.\n",
    "\n",
    "TCGA documentation (https://docs.gdc.cancer.gov/Encyclopedia/pages/TCGA_Barcode/) mentions that the information is encoded in the 'BarCode'\n",
    "\n",
    "For instance, sample `TCGA-05-4244-01A-01R-1107-07`, the fourth identifier is `01A` which means 'Tumor' (`01`), whereas sample `TCGA-91-6829-11A-01R-1858-07`, has the fourth identifier `11A` which means Normal.\n",
    "\n"
   ]
  },
  {
   "cell_type": "code",
   "execution_count": null,
   "metadata": {
    "scrolled": false
   },
   "outputs": [],
   "source": [
    "def to_tumor_normal(barcode):\n",
    "    return barcode.split('-')[3][0] == '0'\n",
    "\n",
    "tn = [to_tumor_normal(b) for b in df.index.values]\n",
    "y = np.array(tn)\n",
    "\n",
    "# Check that we only have tumor data, not normal tissue\n",
    "sum(y), sum(1-y)"
   ]
  },
  {
   "cell_type": "markdown",
   "metadata": {},
   "source": [
    "### Load clinical table"
   ]
  },
  {
   "cell_type": "code",
   "execution_count": null,
   "metadata": {},
   "outputs": [],
   "source": [
    "df_clinical = pd.read_csv(\"data/tcga_brca_clinical_data.tsv\", sep=\"\\t\", low_memory=False)"
   ]
  },
  {
   "cell_type": "code",
   "execution_count": null,
   "metadata": {},
   "outputs": [],
   "source": [
    "df_clinical"
   ]
  },
  {
   "cell_type": "code",
   "execution_count": null,
   "metadata": {},
   "outputs": [],
   "source": [
    "# Rename some columns for easier access\n",
    "cli = df_clinical.rename(columns={'Sample ID': 'sample_id', \n",
    "                         'Overall Survival (Months)': 'os', \n",
    "                         'Overall Survival Status': 'os_status'}\n",
    "                        )\n",
    "\n",
    "# Drop all other columns, we are not using them\n",
    "cli = cli[['sample_id', 'os', 'os_status']].copy()\n",
    "cli.set_index(cli.sample_id, inplace=True)\n",
    "cli.drop(columns='sample_id', inplace=True)"
   ]
  },
  {
   "cell_type": "code",
   "execution_count": null,
   "metadata": {},
   "outputs": [],
   "source": [
    "# Remove samples with missing values\n",
    "to_remove = pd.isna(cli.os) | pd.isna(cli.os_status)\n",
    "sum(to_remove)"
   ]
  },
  {
   "cell_type": "code",
   "execution_count": null,
   "metadata": {},
   "outputs": [],
   "source": [
    "cli = cli.loc[~to_remove].copy()"
   ]
  },
  {
   "cell_type": "code",
   "execution_count": null,
   "metadata": {},
   "outputs": [],
   "source": [
    "# How many in each 'Survival state'\n",
    "cli.os_status.value_counts()"
   ]
  },
  {
   "cell_type": "code",
   "execution_count": null,
   "metadata": {},
   "outputs": [],
   "source": [
    "# Censor data\n",
    "cli = cli.loc[cli.os_status == 'DECEASED'].copy()"
   ]
  },
  {
   "cell_type": "code",
   "execution_count": null,
   "metadata": {},
   "outputs": [],
   "source": [
    "cli = cli[['os']].copy()\n",
    "cli"
   ]
  },
  {
   "cell_type": "markdown",
   "metadata": {},
   "source": [
    "### Intersect clinical and mutataion data"
   ]
  },
  {
   "cell_type": "code",
   "execution_count": null,
   "metadata": {},
   "outputs": [],
   "source": [
    "df = cli.join(df, how='inner').copy()"
   ]
  },
  {
   "cell_type": "code",
   "execution_count": null,
   "metadata": {},
   "outputs": [],
   "source": [
    "df.head()"
   ]
  },
  {
   "cell_type": "code",
   "execution_count": null,
   "metadata": {},
   "outputs": [],
   "source": [
    "# Are there samples with mutataions?\n",
    "count_mut_per_sample = df.sum(axis=1)\n",
    "(count_mut_per_sample == 0).sum()"
   ]
  },
  {
   "cell_type": "code",
   "execution_count": null,
   "metadata": {},
   "outputs": [],
   "source": [
    "# Are there genes with zero or low number of mutataions?\n",
    "count_mut_per_gene = df.sum(axis=0)\n",
    "keep = count_mut_per_gene > 3\n",
    "keep.sum()"
   ]
  },
  {
   "cell_type": "code",
   "execution_count": null,
   "metadata": {
    "scrolled": false
   },
   "outputs": [],
   "source": [
    "# Only keep genes with 3 or more mutataions\n",
    "keep_names = count_mut_per_gene[keep].index\n",
    "df = df[keep_names].copy()\n",
    "df.head()"
   ]
  },
  {
   "cell_type": "code",
   "execution_count": null,
   "metadata": {},
   "outputs": [],
   "source": [
    "df.sum(axis=0).min()"
   ]
  },
  {
   "cell_type": "markdown",
   "metadata": {},
   "source": [
    "# Create dataset for model trainig"
   ]
  },
  {
   "cell_type": "code",
   "execution_count": null,
   "metadata": {},
   "outputs": [],
   "source": [
    "x = df.iloc[:,1:].to_numpy()\n",
    "x"
   ]
  },
  {
   "cell_type": "code",
   "execution_count": null,
   "metadata": {},
   "outputs": [],
   "source": [
    "y = df.iloc[:,0].to_numpy()\n",
    "y"
   ]
  },
  {
   "cell_type": "markdown",
   "metadata": {},
   "source": [
    "Make sure the dimentions for `x` and `y` match"
   ]
  },
  {
   "cell_type": "code",
   "execution_count": null,
   "metadata": {},
   "outputs": [],
   "source": [
    "# Create list of genes\n",
    "genes = list(df.columns[1:])\n",
    "x.shape, y.shape, len(genes)"
   ]
  },
  {
   "cell_type": "markdown",
   "metadata": {},
   "source": [
    "# Create Regressors and anlyze feature importance"
   ]
  },
  {
   "cell_type": "code",
   "execution_count": null,
   "metadata": {},
   "outputs": [],
   "source": [
    "from sklearn.ensemble import RandomForestRegressor, ExtraTreesRegressor, GradientBoostingRegressor\n",
    "from sklearn.linear_model import RidgeCV\n",
    "from sklearn.model_selection import GridSearchCV\n",
    "\n",
    "def fit_cv(model):\n",
    "    ' Find best number of estimators for the model '\n",
    "    param_grid = [{'n_estimators': [1, 3, 5, 10, 20, 30, 40, 50, 60, 80, 90, 100]}]\n",
    "    gs = GridSearchCV(model, param_grid, cv=5)\n",
    "    gs.fit(x, y)\n",
    "    n = gs.best_params_['n_estimators']\n",
    "    print(f\"Best 'n_estimators'= {n}\")\n",
    "    return n\n",
    "\n",
    "def importance(model):\n",
    "    ' Show most important genes '\n",
    "    model.fit(x,y)\n",
    "    top = pd.Series(model.feature_importances_, genes).sort_values(ascending=False)\n",
    "    print('Top genes:')\n",
    "    print(top.head(10))"
   ]
  },
  {
   "cell_type": "code",
   "execution_count": null,
   "metadata": {},
   "outputs": [],
   "source": [
    "rf = RandomForestRegressor(n_jobs=-1, random_state=42)\n",
    "n = fit_cv(rf)\n",
    "\n",
    "rf = RandomForestRegressor(n_estimators=n, n_jobs=-1, random_state=42)\n",
    "importance(rf)"
   ]
  },
  {
   "cell_type": "code",
   "execution_count": null,
   "metadata": {},
   "outputs": [],
   "source": [
    "gb = GradientBoostingRegressor(random_state=42)\n",
    "n = fit_cv(gb)\n",
    "\n",
    "gb = GradientBoostingRegressor(n_estimators=n, random_state=42)\n",
    "importance(gb)"
   ]
  },
  {
   "cell_type": "code",
   "execution_count": null,
   "metadata": {},
   "outputs": [],
   "source": [
    "et = ExtraTreesRegressor(n_jobs=-1, random_state=42)\n",
    "n = fit_cv(et)\n",
    "\n",
    "et = ExtraTreesRegressor(n_estimators=n, n_jobs=-1, random_state=42)\n",
    "importance(et)"
   ]
  },
  {
   "cell_type": "code",
   "execution_count": null,
   "metadata": {},
   "outputs": [],
   "source": []
  }
 ],
 "metadata": {
  "kernelspec": {
   "display_name": "logml",
   "language": "python",
   "name": "logml"
  },
  "language_info": {
   "codemirror_mode": {
    "name": "ipython",
    "version": 3
   },
   "file_extension": ".py",
   "mimetype": "text/x-python",
   "name": "python",
   "nbconvert_exporter": "python",
   "pygments_lexer": "ipython3",
   "version": "3.7.3"
  }
 },
 "nbformat": 4,
 "nbformat_minor": 2
}
