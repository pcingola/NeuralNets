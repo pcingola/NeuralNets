{
 "cells": [
  {
   "cell_type": "code",
   "execution_count": 1,
   "metadata": {},
   "outputs": [],
   "source": [
    "%load_ext autoreload\n",
    "%autoreload 2\n",
    "%matplotlib inline\n",
    "\n",
    "import matplotlib.pyplot as plt\n",
    "import numpy as np\n",
    "import pandas as pd\n",
    "import sys\n",
    "import os"
   ]
  },
  {
   "cell_type": "markdown",
   "metadata": {},
   "source": [
    "# Load & explore data"
   ]
  },
  {
   "cell_type": "code",
   "execution_count": 2,
   "metadata": {},
   "outputs": [],
   "source": [
    "df_luad = pd.read_csv(\"data/tcga.luad.rnaseq.txt\", sep=\"\\t\", low_memory=False)\n",
    "df_lusc = pd.read_csv(\"data/tcga.lusc.rnaseq.txt\", sep=\"\\t\", low_memory=False)\n"
   ]
  },
  {
   "cell_type": "code",
   "execution_count": 3,
   "metadata": {},
   "outputs": [
    {
     "data": {
      "text/html": [
       "<div>\n",
       "<style scoped>\n",
       "    .dataframe tbody tr th:only-of-type {\n",
       "        vertical-align: middle;\n",
       "    }\n",
       "\n",
       "    .dataframe tbody tr th {\n",
       "        vertical-align: top;\n",
       "    }\n",
       "\n",
       "    .dataframe thead th {\n",
       "        text-align: right;\n",
       "    }\n",
       "</style>\n",
       "<table border=\"1\" class=\"dataframe\">\n",
       "  <thead>\n",
       "    <tr style=\"text-align: right;\">\n",
       "      <th></th>\n",
       "      <th>Hybridization REF</th>\n",
       "      <th>TCGA-05-4244-01A-01R-1107-07</th>\n",
       "      <th>TCGA-05-4249-01A-01R-1107-07</th>\n",
       "      <th>TCGA-05-4250-01A-01R-1107-07</th>\n",
       "      <th>TCGA-05-4382-01A-01R-1206-07</th>\n",
       "      <th>TCGA-05-4384-01A-01R-1755-07</th>\n",
       "      <th>TCGA-05-4389-01A-01R-1206-07</th>\n",
       "      <th>TCGA-05-4390-01A-02R-1755-07</th>\n",
       "      <th>TCGA-05-4395-01A-01R-1206-07</th>\n",
       "      <th>TCGA-05-4396-01A-21R-1858-07</th>\n",
       "      <th>...</th>\n",
       "      <th>TCGA-NJ-A4YG-01A-22R-A262-07</th>\n",
       "      <th>TCGA-NJ-A4YI-01A-11R-A262-07</th>\n",
       "      <th>TCGA-NJ-A4YP-01A-11R-A262-07</th>\n",
       "      <th>TCGA-NJ-A4YQ-01A-11R-A262-07</th>\n",
       "      <th>TCGA-NJ-A55A-01A-11R-A262-07</th>\n",
       "      <th>TCGA-NJ-A55O-01A-11R-A262-07</th>\n",
       "      <th>TCGA-NJ-A55R-01A-11R-A262-07</th>\n",
       "      <th>TCGA-NJ-A7XG-01A-12R-A39D-07</th>\n",
       "      <th>TCGA-O1-A52J-01A-11R-A262-07</th>\n",
       "      <th>TCGA-S2-AA1A-01A-12R-A39D-07</th>\n",
       "    </tr>\n",
       "  </thead>\n",
       "  <tbody>\n",
       "    <tr>\n",
       "      <th>0</th>\n",
       "      <td>gene_id</td>\n",
       "      <td>normalized_count</td>\n",
       "      <td>normalized_count</td>\n",
       "      <td>normalized_count</td>\n",
       "      <td>normalized_count</td>\n",
       "      <td>normalized_count</td>\n",
       "      <td>normalized_count</td>\n",
       "      <td>normalized_count</td>\n",
       "      <td>normalized_count</td>\n",
       "      <td>normalized_count</td>\n",
       "      <td>...</td>\n",
       "      <td>normalized_count</td>\n",
       "      <td>normalized_count</td>\n",
       "      <td>normalized_count</td>\n",
       "      <td>normalized_count</td>\n",
       "      <td>normalized_count</td>\n",
       "      <td>normalized_count</td>\n",
       "      <td>normalized_count</td>\n",
       "      <td>normalized_count</td>\n",
       "      <td>normalized_count</td>\n",
       "      <td>normalized_count</td>\n",
       "    </tr>\n",
       "    <tr>\n",
       "      <th>1</th>\n",
       "      <td>?|100130426</td>\n",
       "      <td>0.0000</td>\n",
       "      <td>0.0000</td>\n",
       "      <td>0.0000</td>\n",
       "      <td>0.0000</td>\n",
       "      <td>0.0000</td>\n",
       "      <td>0.0000</td>\n",
       "      <td>0.0000</td>\n",
       "      <td>0.0000</td>\n",
       "      <td>0.0000</td>\n",
       "      <td>...</td>\n",
       "      <td>0.0000</td>\n",
       "      <td>0.0000</td>\n",
       "      <td>0.0000</td>\n",
       "      <td>0.0000</td>\n",
       "      <td>0.0000</td>\n",
       "      <td>0.0000</td>\n",
       "      <td>0.0000</td>\n",
       "      <td>0.0000</td>\n",
       "      <td>0.0000</td>\n",
       "      <td>0.0000</td>\n",
       "    </tr>\n",
       "    <tr>\n",
       "      <th>2</th>\n",
       "      <td>?|100133144</td>\n",
       "      <td>10.0113</td>\n",
       "      <td>7.1957</td>\n",
       "      <td>7.2453</td>\n",
       "      <td>11.3311</td>\n",
       "      <td>3.2254</td>\n",
       "      <td>4.0000</td>\n",
       "      <td>7.1084</td>\n",
       "      <td>3.4360</td>\n",
       "      <td>13.5406</td>\n",
       "      <td>...</td>\n",
       "      <td>11.7148</td>\n",
       "      <td>3.6657</td>\n",
       "      <td>2.3298</td>\n",
       "      <td>16.3214</td>\n",
       "      <td>20.3514</td>\n",
       "      <td>15.5193</td>\n",
       "      <td>8.4195</td>\n",
       "      <td>42.9857</td>\n",
       "      <td>14.0861</td>\n",
       "      <td>20.5338</td>\n",
       "    </tr>\n",
       "    <tr>\n",
       "      <th>3</th>\n",
       "      <td>?|100134869</td>\n",
       "      <td>11.2820</td>\n",
       "      <td>12.4436</td>\n",
       "      <td>6.0184</td>\n",
       "      <td>7.5740</td>\n",
       "      <td>3.4942</td>\n",
       "      <td>13.7852</td>\n",
       "      <td>7.5810</td>\n",
       "      <td>12.1335</td>\n",
       "      <td>16.0273</td>\n",
       "      <td>...</td>\n",
       "      <td>11.9573</td>\n",
       "      <td>9.7617</td>\n",
       "      <td>8.3410</td>\n",
       "      <td>7.5330</td>\n",
       "      <td>17.2393</td>\n",
       "      <td>22.9872</td>\n",
       "      <td>10.3226</td>\n",
       "      <td>81.1128</td>\n",
       "      <td>24.1914</td>\n",
       "      <td>8.9500</td>\n",
       "    </tr>\n",
       "    <tr>\n",
       "      <th>4</th>\n",
       "      <td>?|10357</td>\n",
       "      <td>49.5994</td>\n",
       "      <td>90.5117</td>\n",
       "      <td>49.5366</td>\n",
       "      <td>82.8303</td>\n",
       "      <td>72.5351</td>\n",
       "      <td>66.3658</td>\n",
       "      <td>109.1809</td>\n",
       "      <td>57.0596</td>\n",
       "      <td>108.4155</td>\n",
       "      <td>...</td>\n",
       "      <td>163.5739</td>\n",
       "      <td>130.7486</td>\n",
       "      <td>101.7403</td>\n",
       "      <td>82.4231</td>\n",
       "      <td>100.4196</td>\n",
       "      <td>100.1867</td>\n",
       "      <td>74.7210</td>\n",
       "      <td>85.3715</td>\n",
       "      <td>61.1388</td>\n",
       "      <td>76.9265</td>\n",
       "    </tr>\n",
       "  </tbody>\n",
       "</table>\n",
       "<p>5 rows × 577 columns</p>\n",
       "</div>"
      ],
      "text/plain": [
       "  Hybridization REF TCGA-05-4244-01A-01R-1107-07 TCGA-05-4249-01A-01R-1107-07  \\\n",
       "0           gene_id             normalized_count             normalized_count   \n",
       "1       ?|100130426                       0.0000                       0.0000   \n",
       "2       ?|100133144                      10.0113                       7.1957   \n",
       "3       ?|100134869                      11.2820                      12.4436   \n",
       "4           ?|10357                      49.5994                      90.5117   \n",
       "\n",
       "  TCGA-05-4250-01A-01R-1107-07 TCGA-05-4382-01A-01R-1206-07  \\\n",
       "0             normalized_count             normalized_count   \n",
       "1                       0.0000                       0.0000   \n",
       "2                       7.2453                      11.3311   \n",
       "3                       6.0184                       7.5740   \n",
       "4                      49.5366                      82.8303   \n",
       "\n",
       "  TCGA-05-4384-01A-01R-1755-07 TCGA-05-4389-01A-01R-1206-07  \\\n",
       "0             normalized_count             normalized_count   \n",
       "1                       0.0000                       0.0000   \n",
       "2                       3.2254                       4.0000   \n",
       "3                       3.4942                      13.7852   \n",
       "4                      72.5351                      66.3658   \n",
       "\n",
       "  TCGA-05-4390-01A-02R-1755-07 TCGA-05-4395-01A-01R-1206-07  \\\n",
       "0             normalized_count             normalized_count   \n",
       "1                       0.0000                       0.0000   \n",
       "2                       7.1084                       3.4360   \n",
       "3                       7.5810                      12.1335   \n",
       "4                     109.1809                      57.0596   \n",
       "\n",
       "  TCGA-05-4396-01A-21R-1858-07  ... TCGA-NJ-A4YG-01A-22R-A262-07  \\\n",
       "0             normalized_count  ...             normalized_count   \n",
       "1                       0.0000  ...                       0.0000   \n",
       "2                      13.5406  ...                      11.7148   \n",
       "3                      16.0273  ...                      11.9573   \n",
       "4                     108.4155  ...                     163.5739   \n",
       "\n",
       "  TCGA-NJ-A4YI-01A-11R-A262-07 TCGA-NJ-A4YP-01A-11R-A262-07  \\\n",
       "0             normalized_count             normalized_count   \n",
       "1                       0.0000                       0.0000   \n",
       "2                       3.6657                       2.3298   \n",
       "3                       9.7617                       8.3410   \n",
       "4                     130.7486                     101.7403   \n",
       "\n",
       "  TCGA-NJ-A4YQ-01A-11R-A262-07 TCGA-NJ-A55A-01A-11R-A262-07  \\\n",
       "0             normalized_count             normalized_count   \n",
       "1                       0.0000                       0.0000   \n",
       "2                      16.3214                      20.3514   \n",
       "3                       7.5330                      17.2393   \n",
       "4                      82.4231                     100.4196   \n",
       "\n",
       "  TCGA-NJ-A55O-01A-11R-A262-07 TCGA-NJ-A55R-01A-11R-A262-07  \\\n",
       "0             normalized_count             normalized_count   \n",
       "1                       0.0000                       0.0000   \n",
       "2                      15.5193                       8.4195   \n",
       "3                      22.9872                      10.3226   \n",
       "4                     100.1867                      74.7210   \n",
       "\n",
       "  TCGA-NJ-A7XG-01A-12R-A39D-07 TCGA-O1-A52J-01A-11R-A262-07  \\\n",
       "0             normalized_count             normalized_count   \n",
       "1                       0.0000                       0.0000   \n",
       "2                      42.9857                      14.0861   \n",
       "3                      81.1128                      24.1914   \n",
       "4                      85.3715                      61.1388   \n",
       "\n",
       "  TCGA-S2-AA1A-01A-12R-A39D-07  \n",
       "0             normalized_count  \n",
       "1                       0.0000  \n",
       "2                      20.5338  \n",
       "3                       8.9500  \n",
       "4                      76.9265  \n",
       "\n",
       "[5 rows x 577 columns]"
      ]
     },
     "execution_count": 3,
     "metadata": {},
     "output_type": "execute_result"
    }
   ],
   "source": [
    "df_luad.head()"
   ]
  },
  {
   "cell_type": "code",
   "execution_count": 4,
   "metadata": {},
   "outputs": [
    {
     "data": {
      "text/html": [
       "<div>\n",
       "<style scoped>\n",
       "    .dataframe tbody tr th:only-of-type {\n",
       "        vertical-align: middle;\n",
       "    }\n",
       "\n",
       "    .dataframe tbody tr th {\n",
       "        vertical-align: top;\n",
       "    }\n",
       "\n",
       "    .dataframe thead th {\n",
       "        text-align: right;\n",
       "    }\n",
       "</style>\n",
       "<table border=\"1\" class=\"dataframe\">\n",
       "  <thead>\n",
       "    <tr style=\"text-align: right;\">\n",
       "      <th></th>\n",
       "      <th>Hybridization REF</th>\n",
       "      <th>TCGA-18-3406-01A-01R-0980-07</th>\n",
       "      <th>TCGA-18-3407-01A-01R-0980-07</th>\n",
       "      <th>TCGA-18-3408-01A-01R-0980-07</th>\n",
       "      <th>TCGA-18-3409-01A-01R-0980-07</th>\n",
       "      <th>TCGA-18-3410-01A-01R-0980-07</th>\n",
       "      <th>TCGA-18-3411-01A-01R-0980-07</th>\n",
       "      <th>TCGA-18-3412-01A-01R-0980-07</th>\n",
       "      <th>TCGA-18-3414-01A-01R-0980-07</th>\n",
       "      <th>TCGA-18-3415-01A-01R-0980-07</th>\n",
       "      <th>...</th>\n",
       "      <th>TCGA-NK-A5CX-01A-11R-A26W-07</th>\n",
       "      <th>TCGA-NK-A5D1-01A-11R-A26W-07</th>\n",
       "      <th>TCGA-NK-A7XE-01A-12R-A405-07</th>\n",
       "      <th>TCGA-O2-A52N-01A-11R-A26W-07</th>\n",
       "      <th>TCGA-O2-A52Q-01A-11R-A26W-07</th>\n",
       "      <th>TCGA-O2-A52S-01A-11R-A262-07</th>\n",
       "      <th>TCGA-O2-A52V-01A-31R-A262-07</th>\n",
       "      <th>TCGA-O2-A52W-01A-11R-A26W-07</th>\n",
       "      <th>TCGA-O2-A5IB-01A-11R-A27Q-07</th>\n",
       "      <th>TCGA-XC-AA0X-01A-32R-A405-07</th>\n",
       "    </tr>\n",
       "  </thead>\n",
       "  <tbody>\n",
       "    <tr>\n",
       "      <th>0</th>\n",
       "      <td>gene_id</td>\n",
       "      <td>normalized_count</td>\n",
       "      <td>normalized_count</td>\n",
       "      <td>normalized_count</td>\n",
       "      <td>normalized_count</td>\n",
       "      <td>normalized_count</td>\n",
       "      <td>normalized_count</td>\n",
       "      <td>normalized_count</td>\n",
       "      <td>normalized_count</td>\n",
       "      <td>normalized_count</td>\n",
       "      <td>...</td>\n",
       "      <td>normalized_count</td>\n",
       "      <td>normalized_count</td>\n",
       "      <td>normalized_count</td>\n",
       "      <td>normalized_count</td>\n",
       "      <td>normalized_count</td>\n",
       "      <td>normalized_count</td>\n",
       "      <td>normalized_count</td>\n",
       "      <td>normalized_count</td>\n",
       "      <td>normalized_count</td>\n",
       "      <td>normalized_count</td>\n",
       "    </tr>\n",
       "    <tr>\n",
       "      <th>1</th>\n",
       "      <td>?|100130426</td>\n",
       "      <td>0.0000</td>\n",
       "      <td>0.0000</td>\n",
       "      <td>0.0000</td>\n",
       "      <td>0.0000</td>\n",
       "      <td>0.0000</td>\n",
       "      <td>0.0000</td>\n",
       "      <td>0.0000</td>\n",
       "      <td>0.0000</td>\n",
       "      <td>0.0000</td>\n",
       "      <td>...</td>\n",
       "      <td>0.0000</td>\n",
       "      <td>0.0000</td>\n",
       "      <td>0.0000</td>\n",
       "      <td>0.0000</td>\n",
       "      <td>0.0000</td>\n",
       "      <td>0.0000</td>\n",
       "      <td>0.0000</td>\n",
       "      <td>0.0000</td>\n",
       "      <td>0.0000</td>\n",
       "      <td>0.0000</td>\n",
       "    </tr>\n",
       "    <tr>\n",
       "      <th>2</th>\n",
       "      <td>?|100133144</td>\n",
       "      <td>75.3622</td>\n",
       "      <td>14.4148</td>\n",
       "      <td>8.4888</td>\n",
       "      <td>2.5897</td>\n",
       "      <td>16.6653</td>\n",
       "      <td>12.9418</td>\n",
       "      <td>47.5782</td>\n",
       "      <td>12.3168</td>\n",
       "      <td>55.1387</td>\n",
       "      <td>...</td>\n",
       "      <td>40.3766</td>\n",
       "      <td>39.5911</td>\n",
       "      <td>20.8723</td>\n",
       "      <td>30.2240</td>\n",
       "      <td>4.2895</td>\n",
       "      <td>19.9503</td>\n",
       "      <td>30.0872</td>\n",
       "      <td>53.6593</td>\n",
       "      <td>72.5666</td>\n",
       "      <td>44.7501</td>\n",
       "    </tr>\n",
       "    <tr>\n",
       "      <th>3</th>\n",
       "      <td>?|100134869</td>\n",
       "      <td>25.4252</td>\n",
       "      <td>6.9933</td>\n",
       "      <td>3.3754</td>\n",
       "      <td>7.1538</td>\n",
       "      <td>19.5722</td>\n",
       "      <td>14.4142</td>\n",
       "      <td>20.8881</td>\n",
       "      <td>25.7116</td>\n",
       "      <td>39.0809</td>\n",
       "      <td>...</td>\n",
       "      <td>17.3322</td>\n",
       "      <td>21.7407</td>\n",
       "      <td>15.7901</td>\n",
       "      <td>4.2022</td>\n",
       "      <td>3.6632</td>\n",
       "      <td>47.1026</td>\n",
       "      <td>15.2957</td>\n",
       "      <td>33.3907</td>\n",
       "      <td>42.1832</td>\n",
       "      <td>23.6304</td>\n",
       "    </tr>\n",
       "    <tr>\n",
       "      <th>4</th>\n",
       "      <td>?|10357</td>\n",
       "      <td>279.9764</td>\n",
       "      <td>198.2540</td>\n",
       "      <td>254.5929</td>\n",
       "      <td>164.3744</td>\n",
       "      <td>200.8033</td>\n",
       "      <td>277.6667</td>\n",
       "      <td>394.3623</td>\n",
       "      <td>205.8704</td>\n",
       "      <td>162.0405</td>\n",
       "      <td>...</td>\n",
       "      <td>142.3695</td>\n",
       "      <td>234.1647</td>\n",
       "      <td>133.6915</td>\n",
       "      <td>131.5628</td>\n",
       "      <td>153.5980</td>\n",
       "      <td>176.7177</td>\n",
       "      <td>188.7215</td>\n",
       "      <td>260.3332</td>\n",
       "      <td>160.1624</td>\n",
       "      <td>76.6488</td>\n",
       "    </tr>\n",
       "  </tbody>\n",
       "</table>\n",
       "<p>5 rows × 553 columns</p>\n",
       "</div>"
      ],
      "text/plain": [
       "  Hybridization REF TCGA-18-3406-01A-01R-0980-07 TCGA-18-3407-01A-01R-0980-07  \\\n",
       "0           gene_id             normalized_count             normalized_count   \n",
       "1       ?|100130426                       0.0000                       0.0000   \n",
       "2       ?|100133144                      75.3622                      14.4148   \n",
       "3       ?|100134869                      25.4252                       6.9933   \n",
       "4           ?|10357                     279.9764                     198.2540   \n",
       "\n",
       "  TCGA-18-3408-01A-01R-0980-07 TCGA-18-3409-01A-01R-0980-07  \\\n",
       "0             normalized_count             normalized_count   \n",
       "1                       0.0000                       0.0000   \n",
       "2                       8.4888                       2.5897   \n",
       "3                       3.3754                       7.1538   \n",
       "4                     254.5929                     164.3744   \n",
       "\n",
       "  TCGA-18-3410-01A-01R-0980-07 TCGA-18-3411-01A-01R-0980-07  \\\n",
       "0             normalized_count             normalized_count   \n",
       "1                       0.0000                       0.0000   \n",
       "2                      16.6653                      12.9418   \n",
       "3                      19.5722                      14.4142   \n",
       "4                     200.8033                     277.6667   \n",
       "\n",
       "  TCGA-18-3412-01A-01R-0980-07 TCGA-18-3414-01A-01R-0980-07  \\\n",
       "0             normalized_count             normalized_count   \n",
       "1                       0.0000                       0.0000   \n",
       "2                      47.5782                      12.3168   \n",
       "3                      20.8881                      25.7116   \n",
       "4                     394.3623                     205.8704   \n",
       "\n",
       "  TCGA-18-3415-01A-01R-0980-07  ... TCGA-NK-A5CX-01A-11R-A26W-07  \\\n",
       "0             normalized_count  ...             normalized_count   \n",
       "1                       0.0000  ...                       0.0000   \n",
       "2                      55.1387  ...                      40.3766   \n",
       "3                      39.0809  ...                      17.3322   \n",
       "4                     162.0405  ...                     142.3695   \n",
       "\n",
       "  TCGA-NK-A5D1-01A-11R-A26W-07 TCGA-NK-A7XE-01A-12R-A405-07  \\\n",
       "0             normalized_count             normalized_count   \n",
       "1                       0.0000                       0.0000   \n",
       "2                      39.5911                      20.8723   \n",
       "3                      21.7407                      15.7901   \n",
       "4                     234.1647                     133.6915   \n",
       "\n",
       "  TCGA-O2-A52N-01A-11R-A26W-07 TCGA-O2-A52Q-01A-11R-A26W-07  \\\n",
       "0             normalized_count             normalized_count   \n",
       "1                       0.0000                       0.0000   \n",
       "2                      30.2240                       4.2895   \n",
       "3                       4.2022                       3.6632   \n",
       "4                     131.5628                     153.5980   \n",
       "\n",
       "  TCGA-O2-A52S-01A-11R-A262-07 TCGA-O2-A52V-01A-31R-A262-07  \\\n",
       "0             normalized_count             normalized_count   \n",
       "1                       0.0000                       0.0000   \n",
       "2                      19.9503                      30.0872   \n",
       "3                      47.1026                      15.2957   \n",
       "4                     176.7177                     188.7215   \n",
       "\n",
       "  TCGA-O2-A52W-01A-11R-A26W-07 TCGA-O2-A5IB-01A-11R-A27Q-07  \\\n",
       "0             normalized_count             normalized_count   \n",
       "1                       0.0000                       0.0000   \n",
       "2                      53.6593                      72.5666   \n",
       "3                      33.3907                      42.1832   \n",
       "4                     260.3332                     160.1624   \n",
       "\n",
       "  TCGA-XC-AA0X-01A-32R-A405-07  \n",
       "0             normalized_count  \n",
       "1                       0.0000  \n",
       "2                      44.7501  \n",
       "3                      23.6304  \n",
       "4                      76.6488  \n",
       "\n",
       "[5 rows x 553 columns]"
      ]
     },
     "execution_count": 4,
     "metadata": {},
     "output_type": "execute_result"
    }
   ],
   "source": [
    "df_lusc.head()"
   ]
  },
  {
   "cell_type": "markdown",
   "metadata": {},
   "source": [
    "Are the gene_id columns equal?"
   ]
  },
  {
   "cell_type": "code",
   "execution_count": 5,
   "metadata": {},
   "outputs": [
    {
     "data": {
      "text/plain": [
       "True"
      ]
     },
     "execution_count": 5,
     "metadata": {},
     "output_type": "execute_result"
    }
   ],
   "source": [
    "all(df_luad.iloc[:,0] == df_lusc.iloc[:,0])"
   ]
  },
  {
   "cell_type": "markdown",
   "metadata": {},
   "source": [
    "Keep GeneIds (first column) and remove first row"
   ]
  },
  {
   "cell_type": "code",
   "execution_count": 6,
   "metadata": {},
   "outputs": [],
   "source": [
    "genes = df_luad.iloc[1:,0]"
   ]
  },
  {
   "cell_type": "code",
   "execution_count": 7,
   "metadata": {},
   "outputs": [
    {
     "data": {
      "text/plain": [
       "1             ?|100130426\n",
       "2             ?|100133144\n",
       "3             ?|100134869\n",
       "4                 ?|10357\n",
       "5                 ?|10431\n",
       "               ...       \n",
       "20527            ZYX|7791\n",
       "20528         ZZEF1|23140\n",
       "20529          ZZZ3|26009\n",
       "20530    psiTPTE22|387590\n",
       "20531         tAKR|389932\n",
       "Name: Hybridization REF, Length: 20531, dtype: object"
      ]
     },
     "execution_count": 7,
     "metadata": {},
     "output_type": "execute_result"
    }
   ],
   "source": [
    "genes"
   ]
  },
  {
   "cell_type": "markdown",
   "metadata": {},
   "source": [
    "Concatenate both data-frames and convert them to float"
   ]
  },
  {
   "cell_type": "code",
   "execution_count": 8,
   "metadata": {},
   "outputs": [],
   "source": [
    "df = pd.concat([df_luad.iloc[1:,1:], df_lusc.iloc[1:,1:]], axis=1)\n",
    "\n",
    "df = df.astype('float')"
   ]
  },
  {
   "cell_type": "code",
   "execution_count": 9,
   "metadata": {},
   "outputs": [
    {
     "data": {
      "text/html": [
       "<div>\n",
       "<style scoped>\n",
       "    .dataframe tbody tr th:only-of-type {\n",
       "        vertical-align: middle;\n",
       "    }\n",
       "\n",
       "    .dataframe tbody tr th {\n",
       "        vertical-align: top;\n",
       "    }\n",
       "\n",
       "    .dataframe thead th {\n",
       "        text-align: right;\n",
       "    }\n",
       "</style>\n",
       "<table border=\"1\" class=\"dataframe\">\n",
       "  <thead>\n",
       "    <tr style=\"text-align: right;\">\n",
       "      <th></th>\n",
       "      <th>TCGA-05-4244-01A-01R-1107-07</th>\n",
       "      <th>TCGA-05-4249-01A-01R-1107-07</th>\n",
       "      <th>TCGA-05-4250-01A-01R-1107-07</th>\n",
       "      <th>TCGA-05-4382-01A-01R-1206-07</th>\n",
       "      <th>TCGA-05-4384-01A-01R-1755-07</th>\n",
       "      <th>TCGA-05-4389-01A-01R-1206-07</th>\n",
       "      <th>TCGA-05-4390-01A-02R-1755-07</th>\n",
       "      <th>TCGA-05-4395-01A-01R-1206-07</th>\n",
       "      <th>TCGA-05-4396-01A-21R-1858-07</th>\n",
       "      <th>TCGA-05-4397-01A-01R-1206-07</th>\n",
       "      <th>...</th>\n",
       "      <th>TCGA-NK-A5CX-01A-11R-A26W-07</th>\n",
       "      <th>TCGA-NK-A5D1-01A-11R-A26W-07</th>\n",
       "      <th>TCGA-NK-A7XE-01A-12R-A405-07</th>\n",
       "      <th>TCGA-O2-A52N-01A-11R-A26W-07</th>\n",
       "      <th>TCGA-O2-A52Q-01A-11R-A26W-07</th>\n",
       "      <th>TCGA-O2-A52S-01A-11R-A262-07</th>\n",
       "      <th>TCGA-O2-A52V-01A-31R-A262-07</th>\n",
       "      <th>TCGA-O2-A52W-01A-11R-A26W-07</th>\n",
       "      <th>TCGA-O2-A5IB-01A-11R-A27Q-07</th>\n",
       "      <th>TCGA-XC-AA0X-01A-32R-A405-07</th>\n",
       "    </tr>\n",
       "  </thead>\n",
       "  <tbody>\n",
       "    <tr>\n",
       "      <th>1</th>\n",
       "      <td>0.0000</td>\n",
       "      <td>0.0000</td>\n",
       "      <td>0.0000</td>\n",
       "      <td>0.0000</td>\n",
       "      <td>0.0000</td>\n",
       "      <td>0.0000</td>\n",
       "      <td>0.0000</td>\n",
       "      <td>0.0000</td>\n",
       "      <td>0.0000</td>\n",
       "      <td>0.0000</td>\n",
       "      <td>...</td>\n",
       "      <td>0.0000</td>\n",
       "      <td>0.0000</td>\n",
       "      <td>0.0000</td>\n",
       "      <td>0.0000</td>\n",
       "      <td>0.0000</td>\n",
       "      <td>0.0000</td>\n",
       "      <td>0.0000</td>\n",
       "      <td>0.0000</td>\n",
       "      <td>0.0000</td>\n",
       "      <td>0.0000</td>\n",
       "    </tr>\n",
       "    <tr>\n",
       "      <th>2</th>\n",
       "      <td>10.0113</td>\n",
       "      <td>7.1957</td>\n",
       "      <td>7.2453</td>\n",
       "      <td>11.3311</td>\n",
       "      <td>3.2254</td>\n",
       "      <td>4.0000</td>\n",
       "      <td>7.1084</td>\n",
       "      <td>3.4360</td>\n",
       "      <td>13.5406</td>\n",
       "      <td>9.4467</td>\n",
       "      <td>...</td>\n",
       "      <td>40.3766</td>\n",
       "      <td>39.5911</td>\n",
       "      <td>20.8723</td>\n",
       "      <td>30.2240</td>\n",
       "      <td>4.2895</td>\n",
       "      <td>19.9503</td>\n",
       "      <td>30.0872</td>\n",
       "      <td>53.6593</td>\n",
       "      <td>72.5666</td>\n",
       "      <td>44.7501</td>\n",
       "    </tr>\n",
       "    <tr>\n",
       "      <th>3</th>\n",
       "      <td>11.2820</td>\n",
       "      <td>12.4436</td>\n",
       "      <td>6.0184</td>\n",
       "      <td>7.5740</td>\n",
       "      <td>3.4942</td>\n",
       "      <td>13.7852</td>\n",
       "      <td>7.5810</td>\n",
       "      <td>12.1335</td>\n",
       "      <td>16.0273</td>\n",
       "      <td>10.4318</td>\n",
       "      <td>...</td>\n",
       "      <td>17.3322</td>\n",
       "      <td>21.7407</td>\n",
       "      <td>15.7901</td>\n",
       "      <td>4.2022</td>\n",
       "      <td>3.6632</td>\n",
       "      <td>47.1026</td>\n",
       "      <td>15.2957</td>\n",
       "      <td>33.3907</td>\n",
       "      <td>42.1832</td>\n",
       "      <td>23.6304</td>\n",
       "    </tr>\n",
       "    <tr>\n",
       "      <th>4</th>\n",
       "      <td>49.5994</td>\n",
       "      <td>90.5117</td>\n",
       "      <td>49.5366</td>\n",
       "      <td>82.8303</td>\n",
       "      <td>72.5351</td>\n",
       "      <td>66.3658</td>\n",
       "      <td>109.1809</td>\n",
       "      <td>57.0596</td>\n",
       "      <td>108.4155</td>\n",
       "      <td>84.2496</td>\n",
       "      <td>...</td>\n",
       "      <td>142.3695</td>\n",
       "      <td>234.1647</td>\n",
       "      <td>133.6915</td>\n",
       "      <td>131.5628</td>\n",
       "      <td>153.5980</td>\n",
       "      <td>176.7177</td>\n",
       "      <td>188.7215</td>\n",
       "      <td>260.3332</td>\n",
       "      <td>160.1624</td>\n",
       "      <td>76.6488</td>\n",
       "    </tr>\n",
       "    <tr>\n",
       "      <th>5</th>\n",
       "      <td>848.9397</td>\n",
       "      <td>924.0158</td>\n",
       "      <td>1140.6781</td>\n",
       "      <td>807.1729</td>\n",
       "      <td>562.0037</td>\n",
       "      <td>1342.6174</td>\n",
       "      <td>1148.3315</td>\n",
       "      <td>955.9141</td>\n",
       "      <td>844.5792</td>\n",
       "      <td>1397.9017</td>\n",
       "      <td>...</td>\n",
       "      <td>935.5667</td>\n",
       "      <td>777.4533</td>\n",
       "      <td>2257.2693</td>\n",
       "      <td>607.6503</td>\n",
       "      <td>1103.4483</td>\n",
       "      <td>1188.3278</td>\n",
       "      <td>1248.0303</td>\n",
       "      <td>789.3606</td>\n",
       "      <td>460.8626</td>\n",
       "      <td>805.9507</td>\n",
       "    </tr>\n",
       "  </tbody>\n",
       "</table>\n",
       "<p>5 rows × 1128 columns</p>\n",
       "</div>"
      ],
      "text/plain": [
       "   TCGA-05-4244-01A-01R-1107-07  TCGA-05-4249-01A-01R-1107-07  \\\n",
       "1                        0.0000                        0.0000   \n",
       "2                       10.0113                        7.1957   \n",
       "3                       11.2820                       12.4436   \n",
       "4                       49.5994                       90.5117   \n",
       "5                      848.9397                      924.0158   \n",
       "\n",
       "   TCGA-05-4250-01A-01R-1107-07  TCGA-05-4382-01A-01R-1206-07  \\\n",
       "1                        0.0000                        0.0000   \n",
       "2                        7.2453                       11.3311   \n",
       "3                        6.0184                        7.5740   \n",
       "4                       49.5366                       82.8303   \n",
       "5                     1140.6781                      807.1729   \n",
       "\n",
       "   TCGA-05-4384-01A-01R-1755-07  TCGA-05-4389-01A-01R-1206-07  \\\n",
       "1                        0.0000                        0.0000   \n",
       "2                        3.2254                        4.0000   \n",
       "3                        3.4942                       13.7852   \n",
       "4                       72.5351                       66.3658   \n",
       "5                      562.0037                     1342.6174   \n",
       "\n",
       "   TCGA-05-4390-01A-02R-1755-07  TCGA-05-4395-01A-01R-1206-07  \\\n",
       "1                        0.0000                        0.0000   \n",
       "2                        7.1084                        3.4360   \n",
       "3                        7.5810                       12.1335   \n",
       "4                      109.1809                       57.0596   \n",
       "5                     1148.3315                      955.9141   \n",
       "\n",
       "   TCGA-05-4396-01A-21R-1858-07  TCGA-05-4397-01A-01R-1206-07  ...  \\\n",
       "1                        0.0000                        0.0000  ...   \n",
       "2                       13.5406                        9.4467  ...   \n",
       "3                       16.0273                       10.4318  ...   \n",
       "4                      108.4155                       84.2496  ...   \n",
       "5                      844.5792                     1397.9017  ...   \n",
       "\n",
       "   TCGA-NK-A5CX-01A-11R-A26W-07  TCGA-NK-A5D1-01A-11R-A26W-07  \\\n",
       "1                        0.0000                        0.0000   \n",
       "2                       40.3766                       39.5911   \n",
       "3                       17.3322                       21.7407   \n",
       "4                      142.3695                      234.1647   \n",
       "5                      935.5667                      777.4533   \n",
       "\n",
       "   TCGA-NK-A7XE-01A-12R-A405-07  TCGA-O2-A52N-01A-11R-A26W-07  \\\n",
       "1                        0.0000                        0.0000   \n",
       "2                       20.8723                       30.2240   \n",
       "3                       15.7901                        4.2022   \n",
       "4                      133.6915                      131.5628   \n",
       "5                     2257.2693                      607.6503   \n",
       "\n",
       "   TCGA-O2-A52Q-01A-11R-A26W-07  TCGA-O2-A52S-01A-11R-A262-07  \\\n",
       "1                        0.0000                        0.0000   \n",
       "2                        4.2895                       19.9503   \n",
       "3                        3.6632                       47.1026   \n",
       "4                      153.5980                      176.7177   \n",
       "5                     1103.4483                     1188.3278   \n",
       "\n",
       "   TCGA-O2-A52V-01A-31R-A262-07  TCGA-O2-A52W-01A-11R-A26W-07  \\\n",
       "1                        0.0000                        0.0000   \n",
       "2                       30.0872                       53.6593   \n",
       "3                       15.2957                       33.3907   \n",
       "4                      188.7215                      260.3332   \n",
       "5                     1248.0303                      789.3606   \n",
       "\n",
       "   TCGA-O2-A5IB-01A-11R-A27Q-07  TCGA-XC-AA0X-01A-32R-A405-07  \n",
       "1                        0.0000                        0.0000  \n",
       "2                       72.5666                       44.7501  \n",
       "3                       42.1832                       23.6304  \n",
       "4                      160.1624                       76.6488  \n",
       "5                      460.8626                      805.9507  \n",
       "\n",
       "[5 rows x 1128 columns]"
      ]
     },
     "execution_count": 9,
     "metadata": {},
     "output_type": "execute_result"
    }
   ],
   "source": [
    "df.head()"
   ]
  },
  {
   "cell_type": "code",
   "execution_count": 10,
   "metadata": {},
   "outputs": [
    {
     "data": {
      "text/plain": [
       "(20531, 1128)"
      ]
     },
     "execution_count": 10,
     "metadata": {},
     "output_type": "execute_result"
    }
   ],
   "source": [
    "df.shape"
   ]
  },
  {
   "cell_type": "markdown",
   "metadata": {},
   "source": [
    "Check data types (should be float) and data-frame size"
   ]
  },
  {
   "cell_type": "code",
   "execution_count": 11,
   "metadata": {},
   "outputs": [
    {
     "name": "stdout",
     "output_type": "stream",
     "text": [
      "<class 'pandas.core.frame.DataFrame'>\n",
      "RangeIndex: 20531 entries, 1 to 20531\n",
      "Columns: 1128 entries, TCGA-05-4244-01A-01R-1107-07 to TCGA-XC-AA0X-01A-32R-A405-07\n",
      "dtypes: float64(1128)\n",
      "memory usage: 176.7 MB\n"
     ]
    }
   ],
   "source": [
    "\n",
    "df.info()"
   ]
  },
  {
   "cell_type": "markdown",
   "metadata": {},
   "source": [
    "# Prepare cathegories"
   ]
  },
  {
   "cell_type": "markdown",
   "metadata": {},
   "source": [
    "We want to know whether a sample belongs to a tumor or normal tissue.\n",
    "\n",
    "TCGA documentation (https://docs.gdc.cancer.gov/Encyclopedia/pages/TCGA_Barcode/) mentions that the information is encoded in the 'BarCode'\n",
    "\n",
    "For instance, sample `TCGA-05-4244-01A-01R-1107-07`, the fourth identifier is `01A` which means 'Tumor' (`01`), whereas sample `TCGA-91-6829-11A-01R-1858-07`, has the fourth identifier `11A` which means Normal.\n",
    "\n"
   ]
  },
  {
   "cell_type": "code",
   "execution_count": 12,
   "metadata": {
    "scrolled": false
   },
   "outputs": [
    {
     "data": {
      "text/plain": [
       "(1018, 110)"
      ]
     },
     "execution_count": 12,
     "metadata": {},
     "output_type": "execute_result"
    }
   ],
   "source": [
    "def to_tumor_normal(barcode):\n",
    "    return barcode.split('-')[3][0] == '0'\n",
    "\n",
    "tn = [to_tumor_normal(b) for b in df.columns]\n",
    "y = np.array(tn)\n",
    "sum(y), sum(1-y)"
   ]
  },
  {
   "cell_type": "code",
   "execution_count": 13,
   "metadata": {},
   "outputs": [],
   "source": [
    "x = df.to_numpy().T\n",
    "\n",
    "from sklearn import preprocessing\n",
    "x = preprocessing.StandardScaler().fit(x).transform(x)"
   ]
  },
  {
   "cell_type": "markdown",
   "metadata": {},
   "source": [
    "Make sure the dimentions for `x` and `y` match"
   ]
  },
  {
   "cell_type": "code",
   "execution_count": 14,
   "metadata": {},
   "outputs": [
    {
     "data": {
      "text/plain": [
       "((1128, 20531), (1128,))"
      ]
     },
     "execution_count": 14,
     "metadata": {},
     "output_type": "execute_result"
    }
   ],
   "source": [
    "x.shape, y.shape"
   ]
  },
  {
   "cell_type": "markdown",
   "metadata": {},
   "source": [
    "Split test set"
   ]
  },
  {
   "cell_type": "code",
   "execution_count": 15,
   "metadata": {},
   "outputs": [
    {
     "data": {
      "text/plain": [
       "((902, 20531), (226, 20531), (902,), (226,))"
      ]
     },
     "execution_count": 15,
     "metadata": {},
     "output_type": "execute_result"
    }
   ],
   "source": [
    "from sklearn.model_selection import train_test_split\n",
    "\n",
    "x_train, x_test, y_train, y_test = train_test_split(x, y, test_size=0.2, random_state=42)\n",
    "\n",
    "x_train.shape, x_test.shape, y_train.shape, y_test.shape\n"
   ]
  },
  {
   "cell_type": "markdown",
   "metadata": {},
   "source": [
    "# Create Random Forest classifier"
   ]
  },
  {
   "cell_type": "code",
   "execution_count": 26,
   "metadata": {},
   "outputs": [
    {
     "data": {
      "text/plain": [
       "GradientBoostingClassifier(criterion='friedman_mse', init=None,\n",
       "                           learning_rate=0.1, loss='deviance', max_depth=3,\n",
       "                           max_features=None, max_leaf_nodes=None,\n",
       "                           min_impurity_decrease=0.0, min_impurity_split=None,\n",
       "                           min_samples_leaf=1, min_samples_split=2,\n",
       "                           min_weight_fraction_leaf=0.0, n_estimators=25,\n",
       "                           n_iter_no_change=None, presort='auto',\n",
       "                           random_state=None, subsample=1.0, tol=0.0001,\n",
       "                           validation_fraction=0.1, verbose=0,\n",
       "                           warm_start=False)"
      ]
     },
     "execution_count": 26,
     "metadata": {},
     "output_type": "execute_result"
    }
   ],
   "source": [
    "from sklearn.ensemble import RandomForestClassifier, GradientBoostingClassifier\n",
    "from sklearn.model_selection import GridSearchCV\n",
    "\n",
    "rf = GradientBoostingClassifier(n_estimators=25)\n",
    "rf.fit(x_train, y_train)\n",
    "\n",
    "# param_grid = [\n",
    "#     {\n",
    "#         'n_estimators': [10, 20, 30, 50, 100, 200],\n",
    "#     }\n",
    "# ]\n",
    "# gs = GridSearchCV(rf, param_grid, cv=5, scoring='f1')\n",
    "# gs.fit(x_train, y_train)\n",
    "# gs.best_params_"
   ]
  },
  {
   "cell_type": "code",
   "execution_count": 27,
   "metadata": {},
   "outputs": [],
   "source": [
    "# rf = gs.best_estimator_"
   ]
  },
  {
   "cell_type": "code",
   "execution_count": 28,
   "metadata": {},
   "outputs": [
    {
     "data": {
      "text/plain": [
       "array([[ 17,   5],\n",
       "       [  0, 204]])"
      ]
     },
     "execution_count": 28,
     "metadata": {},
     "output_type": "execute_result"
    }
   ],
   "source": [
    "from sklearn.metrics import confusion_matrix\n",
    "y_test_hat = rf.predict(x_test)\n",
    "cm = confusion_matrix(y_test,y_test_hat)\n",
    "cm"
   ]
  },
  {
   "cell_type": "markdown",
   "metadata": {},
   "source": [
    "Now we can use all the data"
   ]
  },
  {
   "cell_type": "code",
   "execution_count": 24,
   "metadata": {
    "scrolled": false
   },
   "outputs": [],
   "source": [
    "# def fi_sum():\n",
    "#     fisum = None\n",
    "#     for i in range(10):\n",
    "#         print(f\"Iteration {i}\")\n",
    "#         rf = GradientBoostingClassifier(n_estimators=10, random_state=42*i)\n",
    "#         rf.fit(x, y)\n",
    "#         if fisum is None:\n",
    "#             fisum = np.array(rf.feature_importances_)\n",
    "#         else:\n",
    "#             fisum += np.array(rf.feature_importances_)\n",
    "\n",
    "#     fi = pd.Series(fisum, genes).sort_values(ascending=False)\n",
    "#     return fi\n",
    "\n",
    "# %time fi = fi_sum()\n",
    "# fi.head(10)\n",
    "    "
   ]
  },
  {
   "cell_type": "code",
   "execution_count": 30,
   "metadata": {},
   "outputs": [
    {
     "data": {
      "text/plain": [
       "Hybridization REF\n",
       "STX11|8676          0.937757\n",
       "C9orf140|89958      0.037637\n",
       "CRK|1398            0.005318\n",
       "RNASET2|8635        0.004347\n",
       "LOC115110|115110    0.003781\n",
       "                      ...   \n",
       "PNLIPRP1|5407       0.000000\n",
       "PNLIPRP2|5408       0.000000\n",
       "PNLIPRP3|119548     0.000000\n",
       "PNLIP|5406          0.000000\n",
       "?|100130426         0.000000\n",
       "Length: 20531, dtype: float64"
      ]
     },
     "execution_count": 30,
     "metadata": {},
     "output_type": "execute_result"
    }
   ],
   "source": [
    "pd.Series(rf.feature_importances_, genes).sort_values(ascending=False)"
   ]
  },
  {
   "cell_type": "code",
   "execution_count": 31,
   "metadata": {},
   "outputs": [
    {
     "data": {
      "text/plain": [
       "GradientBoostingClassifier(criterion='friedman_mse', init=None,\n",
       "                           learning_rate=0.1, loss='deviance', max_depth=3,\n",
       "                           max_features=None, max_leaf_nodes=None,\n",
       "                           min_impurity_decrease=0.0, min_impurity_split=None,\n",
       "                           min_samples_leaf=1, min_samples_split=2,\n",
       "                           min_weight_fraction_leaf=0.0, n_estimators=25,\n",
       "                           n_iter_no_change=None, presort='auto',\n",
       "                           random_state=None, subsample=1.0, tol=0.0001,\n",
       "                           validation_fraction=0.1, verbose=0,\n",
       "                           warm_start=False)"
      ]
     },
     "execution_count": 31,
     "metadata": {},
     "output_type": "execute_result"
    }
   ],
   "source": [
    "rf"
   ]
  },
  {
   "cell_type": "code",
   "execution_count": null,
   "metadata": {},
   "outputs": [],
   "source": []
  }
 ],
 "metadata": {
  "kernelspec": {
   "display_name": "logml",
   "language": "python",
   "name": "logml"
  },
  "language_info": {
   "codemirror_mode": {
    "name": "ipython",
    "version": 3
   },
   "file_extension": ".py",
   "mimetype": "text/x-python",
   "name": "python",
   "nbconvert_exporter": "python",
   "pygments_lexer": "ipython3",
   "version": "3.7.3"
  }
 },
 "nbformat": 4,
 "nbformat_minor": 2
}
