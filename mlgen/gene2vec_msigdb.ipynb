{
 "cells": [
  {
   "cell_type": "markdown",
   "metadata": {},
   "source": [
    "# Gene2Vec"
   ]
  },
  {
   "cell_type": "code",
   "execution_count": 1,
   "metadata": {},
   "outputs": [],
   "source": [
    "%load_ext autoreload\n",
    "%autoreload 2\n",
    "%matplotlib inline"
   ]
  },
  {
   "cell_type": "code",
   "execution_count": 2,
   "metadata": {},
   "outputs": [],
   "source": [
    "# Imports\n",
    "import numpy as np\n",
    "import pandas as pd\n",
    "\n",
    "from pathlib import Path\n",
    "from util import *\n",
    "from tcga_dna import *"
   ]
  },
  {
   "cell_type": "markdown",
   "metadata": {},
   "source": [
    "# Pre-processing MsigDb"
   ]
  },
  {
   "cell_type": "code",
   "execution_count": 3,
   "metadata": {},
   "outputs": [],
   "source": [
    "def read_msigdb(path):\n",
    "    \"\"\" Read an MsigDb (single) file and return a dictionary (by gene set) of dictionaries (gene name: 1) \"\"\"\n",
    "    msigdb = dict()\n",
    "    for line in path.read_text().split('\\n'):\n",
    "        fields = line.split('\\t')\n",
    "        geneset_name = fields[0]\n",
    "        if geneset_name:\n",
    "            msigdb[geneset_name] = {f: 1 for f in fields[2:]}\n",
    "    return msigdb\n",
    "\n",
    "\n",
    "def read_msigdb_all(path, regex=\"*.gmt\"):\n",
    "    \"\"\" Read all MsigDb files, return a dictionary of lists of gene names \"\"\"\n",
    "    msigdb = dict()\n",
    "    for p in path.find_files(regex):\n",
    "        print(f\"File: {p}\")\n",
    "        msigdb.update(read_msigdb(p))\n",
    "    return msigdb\n",
    "\n",
    "\n",
    "def msigdb2genes(msigdb):\n",
    "    \"\"\" Get a (sorted) list of all genes in MsigDb \"\"\"\n",
    "    genes = set([g for by_gene in msigdb.values() for g in by_gene.keys()])\n",
    "    genes = list(genes)\n",
    "    genes.sort()\n",
    "    return genes\n",
    "\n",
    "\n",
    "def msigdb2gene_sets(msigdb):\n",
    "    \"\"\" Get a (sorted) list of all Gene-Sets in MsigDb \"\"\"\n",
    "    gs = list(msigdb.keys())\n",
    "    gs.sort()\n",
    "    return gs\n",
    "\n",
    "\n",
    "def msigdb2df(path):\n",
    "    \"\"\" Read all MsigDb in the path and create a dataframe \"\"\"\n",
    "    msigdb = read_msigdb_all(path)\n",
    "    df = pd.DataFrame(msigdb, dtype='int8', index=msigdb2genes(msigdb), columns=msigdb2gene_sets(msigdb))\n",
    "    df.fillna(0, inplace=True)\n",
    "    return df.transpose()\n",
    "\n",
    "\n",
    "def geneset_gene_pairs(msigdb):\n",
    "    \"\"\" Iterate over all (geneset, gene) pairs from MsigDb dictionary \"\"\"\n",
    "    for gs, genes in msigdb.items():\n",
    "        for gene in genes.keys():\n",
    "            yield gs, gene\n",
    "\n",
    "def save_pairs(msigdb, path_save):\n",
    "    pairs_str = '\\n'.join([f\"{gs},{g}\" for gs,g in geneset_gene_pais(msigdb)])\n",
    "    path_save.write_text(pairs_str)"
   ]
  },
  {
   "cell_type": "code",
   "execution_count": 6,
   "metadata": {},
   "outputs": [
    {
     "name": "stdout",
     "output_type": "stream",
     "text": [
      "File: data/msigdb/c6.all.v7.0.symbols.gmt\n",
      "File: data/msigdb/c2.all.v7.0.symbols.gmt\n",
      "File: data/msigdb/c7.all.v7.0.symbols.gmt\n",
      "File: data/msigdb/c5.all.v7.0.symbols.gmt\n",
      "File: data/msigdb/h.all.v7.0.symbols.gmt\n"
     ]
    }
   ],
   "source": [
    "path = Path('data/msigdb')\n",
    "msigdb = read_msigdb_all(path)"
   ]
  },
  {
   "cell_type": "code",
   "execution_count": null,
   "metadata": {},
   "outputs": [],
   "source": [
    "save_pairs(msigdb, path/'msigdb_pairs.txt')"
   ]
  }
 ],
 "metadata": {
  "kernelspec": {
   "display_name": "mlgen",
   "language": "python",
   "name": "mlgen"
  },
  "language_info": {
   "codemirror_mode": {
    "name": "ipython",
    "version": 3
   },
   "file_extension": ".py",
   "mimetype": "text/x-python",
   "name": "python",
   "nbconvert_exporter": "python",
   "pygments_lexer": "ipython3",
   "version": "3.7.3"
  }
 },
 "nbformat": 4,
 "nbformat_minor": 2
}
