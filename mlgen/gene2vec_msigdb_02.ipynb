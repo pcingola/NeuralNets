{
 "cells": [
  {
   "cell_type": "markdown",
   "metadata": {},
   "source": [
    "# Gene2Vec"
   ]
  },
  {
   "cell_type": "code",
   "execution_count": 1,
   "metadata": {},
   "outputs": [],
   "source": [
    "%load_ext autoreload\n",
    "%autoreload 2\n",
    "%matplotlib inline"
   ]
  },
  {
   "cell_type": "code",
   "execution_count": 2,
   "metadata": {},
   "outputs": [],
   "source": [
    "# Imports\n",
    "import numpy as np\n",
    "import pandas as pd\n",
    "\n",
    "from pathlib import Path\n",
    "from util import *\n",
    "from tcga_dna import *"
   ]
  },
  {
   "cell_type": "markdown",
   "metadata": {},
   "source": [
    "# Pre-processing MsigDb"
   ]
  },
  {
   "cell_type": "code",
   "execution_count": 3,
   "metadata": {},
   "outputs": [],
   "source": [
    "def read_msigdb(path):\n",
    "    \"\"\" Read an MsigDb (single) file and return a dictionary (by gene set) of dictionaries (gene name: 1) \"\"\"\n",
    "    msigdb = dict()\n",
    "    for line in path.read_text().split('\\n'):\n",
    "        fields = line.split('\\t')\n",
    "        geneset_name = fields[0]\n",
    "        if geneset_name:\n",
    "            msigdb[geneset_name] = {f: 1 for f in fields[2:]}\n",
    "    return msigdb\n",
    "\n",
    "\n",
    "def read_msigdb_all(path, regex=\"*.gmt\"):\n",
    "    \"\"\" Read all MsigDb files, return a dictionary of lists of gene names \"\"\"\n",
    "    msigdb = dict()\n",
    "    for p in path.find_files(regex):\n",
    "        print(f\"File: {p}\")\n",
    "        msigdb.update(read_msigdb(p))\n",
    "    return msigdb\n",
    "\n",
    "\n",
    "def msigdb2genes(msigdb):\n",
    "    \"\"\" Get a (sorted) list of all genes in MsigDb \"\"\"\n",
    "    genes = set([g for by_gene in msigdb.values() for g in by_gene.keys()])\n",
    "    genes = list(genes)\n",
    "    genes.sort()\n",
    "    return genes\n",
    "\n",
    "\n",
    "def msigdb2gene_sets(msigdb):\n",
    "    \"\"\" Get a (sorted) list of all Gene-Sets in MsigDb \"\"\"\n",
    "    gs = list(msigdb.keys())\n",
    "    gs.sort()\n",
    "    return gs\n",
    "\n",
    "\n",
    "def msigdb2df(path):\n",
    "    \"\"\" Read all MsigDb in the path and create a dataframe \"\"\"\n",
    "    msigdb = read_msigdb_all(path)\n",
    "    df = pd.DataFrame(msigdb, dtype='int8', index=msigdb2genes(msigdb), columns=msigdb2gene_sets(msigdb))\n",
    "    df.fillna(0, inplace=True)\n",
    "    return df.transpose()\n",
    "\n",
    "\n",
    "def geneset_gene_pairs(msigdb):\n",
    "    \"\"\" Iterate over all (geneset, gene) pairs from MsigDb dictionary \"\"\"\n",
    "    for gs, genes in msigdb.items():\n",
    "        for gene in genes.keys():\n",
    "            yield gs, gene\n",
    "\n",
    "def save_pairs(msigdb, path_save):\n",
    "    pairs_str = '\\n'.join([f\"{gs},{g}\" for gs,g in geneset_gene_pairs(msigdb)])\n",
    "    path_save.write_text(pairs_str)"
   ]
  },
  {
   "cell_type": "code",
   "execution_count": 7,
   "metadata": {},
   "outputs": [
    {
     "name": "stdout",
     "output_type": "stream",
     "text": [
      "File: data/msigdb/c6.all.v7.0.symbols.gmt\n",
      "File: data/msigdb/c2.all.v7.0.symbols.gmt\n",
      "File: data/msigdb/c7.all.v7.0.symbols.gmt\n",
      "File: data/msigdb/c5.all.v7.0.symbols.gmt\n",
      "File: data/msigdb/h.all.v7.0.symbols.gmt\n"
     ]
    }
   ],
   "source": [
    "path = Path('data/msigdb')\n",
    "msigdb = read_msigdb_all(path)\n",
    "# save_pairs(msigdb, path/'msigdb_pairs.csv')"
   ]
  },
  {
   "cell_type": "code",
   "execution_count": 5,
   "metadata": {},
   "outputs": [
    {
     "name": "stdout",
     "output_type": "stream",
     "text": [
      "File: data/msigdb/c6.all.v7.0.symbols.gmt\n",
      "File: data/msigdb/c2.all.v7.0.symbols.gmt\n",
      "File: data/msigdb/c7.all.v7.0.symbols.gmt\n",
      "File: data/msigdb/c5.all.v7.0.symbols.gmt\n",
      "File: data/msigdb/h.all.v7.0.symbols.gmt\n",
      "CPU times: user 1min 13s, sys: 3.06 s, total: 1min 16s\n",
      "Wall time: 1min 16s\n"
     ]
    },
    {
     "data": {
      "text/plain": [
       "((20608, 23112), 2320475.0)"
      ]
     },
     "execution_count": 5,
     "metadata": {},
     "output_type": "execute_result"
    }
   ],
   "source": [
    "# %%time\n",
    "# df = msigdb2df(path)\n",
    "# df.shape, df.sum().sum()"
   ]
  },
  {
   "cell_type": "code",
   "execution_count": 6,
   "metadata": {},
   "outputs": [
    {
     "name": "stdout",
     "output_type": "stream",
     "text": [
      "n: 10, reconstruction_err_: 1456.1366669984125, n_iter_: 94\n",
      "n: 20, reconstruction_err_: 1433.0421291386274, n_iter_: 71\n",
      "n: 30, reconstruction_err_: 1415.7370651881865, n_iter_: 199\n",
      "n: 40, reconstruction_err_: 1401.893353272043, n_iter_: 182\n",
      "n: 50, reconstruction_err_: 1391.152196044853, n_iter_: 103\n",
      "n: 60, reconstruction_err_: 1381.664265597847, n_iter_: 140\n",
      "n: 70, reconstruction_err_: 1373.7059099861337, n_iter_: 143\n",
      "n: 80, reconstruction_err_: 1366.3325620239789, n_iter_: 177\n",
      "n: 90, reconstruction_err_: 1359.61818469111, n_iter_: 199\n",
      "n: 100, reconstruction_err_: 1353.0666435705025, n_iter_: 199\n",
      "n: 150, reconstruction_err_: 1326.5354100212003, n_iter_: 106\n",
      "n: 200, reconstruction_err_: 1305.9657480770732, n_iter_: 199\n",
      "CPU times: user 6h 54min 14s, sys: 32min 54s, total: 7h 27min 9s\n",
      "Wall time: 2h 9min 7s\n"
     ]
    }
   ],
   "source": [
    "# %%time\n",
    "# from sklearn.decomposition import NMF\n",
    "\n",
    "# for n in [10, 20, 30, 40, 50, 60, 70, 80, 90, 100, 150, 200]:\n",
    "#     nmf = NMF(n_components=n)\n",
    "#     nmf_fit = nmf.fit(df)\n",
    "#     print(f\"n: {n}, reconstruction_err_: {nmf.reconstruction_err_}, n_iter_: {nmf.n_iter_}\")\n"
   ]
  },
  {
   "cell_type": "code",
   "execution_count": null,
   "metadata": {},
   "outputs": [],
   "source": [
    "# n: 10, reconstruction_err_: 1456.1366669984125, n_iter_: 94\n",
    "# n: 20, reconstruction_err_: 1433.0421291386274, n_iter_: 71\n",
    "# n: 30, reconstruction_err_: 1415.7370651881865, n_iter_: 199\n",
    "# n: 40, reconstruction_err_: 1401.893353272043, n_iter_: 182\n",
    "# n: 50, reconstruction_err_: 1391.152196044853, n_iter_: 103\n",
    "# n: 60, reconstruction_err_: 1381.664265597847, n_iter_: 140\n",
    "# n: 70, reconstruction_err_: 1373.7059099861337, n_iter_: 143\n",
    "# n: 80, reconstruction_err_: 1366.3325620239789, n_iter_: 177\n",
    "# n: 90, reconstruction_err_: 1359.61818469111, n_iter_: 199\n",
    "# n: 100, reconstruction_err_: 1353.0666435705025, n_iter_: 199\n",
    "# n: 150, reconstruction_err_: 1326.5354100212003, n_iter_: 106\n",
    "# n: 200, reconstruction_err_: 1305.9657480770732, n_iter_: 199\n",
    "# CPU times: user 6h 54min 14s, sys: 32min 54s, total: 7h 27min 9s\n",
    "# Wall time: 2h 9min 7s\n",
    "    "
   ]
  },
  {
   "cell_type": "code",
   "execution_count": 19,
   "metadata": {
    "scrolled": false
   },
   "outputs": [],
   "source": [
    "def save_by_gene(msigdb, path, sep=','):\n",
    "    \"\"\" Save to file as 'gene\\tgenesets' \"\"\"\n",
    "    genesets_by_gene = dict()\n",
    "    # Reverse mapping (Gene -> GeneSet)\n",
    "    for gs in sorted(list(msigdb.keys())):\n",
    "        for g in msigdb[gs].keys():\n",
    "            if g not in genesets_by_gene:\n",
    "                genesets_by_gene[g] = gs\n",
    "            else:\n",
    "                genesets_by_gene[g] += ' ' + gs\n",
    "    # Create string to save\n",
    "    strout = f\"gene{sep}genesets\\n\"\n",
    "    strout += '\\n'.join([f\"{g}{sep}{genesets_by_gene[g]}\" for g in sorted(list(genesets_by_gene.keys()))])\n",
    "    path.write_text(strout)\n",
    "\n",
    "save_by_gene(msigdb, path/'msigdb.by_gene.csv')"
   ]
  },
  {
   "cell_type": "code",
   "execution_count": null,
   "metadata": {},
   "outputs": [],
   "source": []
  },
  {
   "cell_type": "code",
   "execution_count": null,
   "metadata": {},
   "outputs": [],
   "source": []
  }
 ],
 "metadata": {
  "kernelspec": {
   "display_name": "mlgen",
   "language": "python",
   "name": "mlgen"
  },
  "language_info": {
   "codemirror_mode": {
    "name": "ipython",
    "version": 3
   },
   "file_extension": ".py",
   "mimetype": "text/x-python",
   "name": "python",
   "nbconvert_exporter": "python",
   "pygments_lexer": "ipython3",
   "version": "3.7.3"
  }
 },
 "nbformat": 4,
 "nbformat_minor": 2
}
