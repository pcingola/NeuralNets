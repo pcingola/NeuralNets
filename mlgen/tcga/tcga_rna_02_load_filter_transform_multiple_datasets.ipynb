{
 "cells": [
  {
   "cell_type": "markdown",
   "metadata": {},
   "source": [
    "# TCGA: Data load, filter, transform"
   ]
  },
  {
   "cell_type": "code",
   "execution_count": null,
   "metadata": {},
   "outputs": [],
   "source": [
    "%load_ext autoreload\n",
    "%autoreload 2\n",
    "%matplotlib inline"
   ]
  },
  {
   "cell_type": "code",
   "execution_count": null,
   "metadata": {},
   "outputs": [],
   "source": [
    "# Imports\n",
    "import pandas as pd\n",
    "\n",
    "from tcga_rna import *\n",
    "from util import *"
   ]
  },
  {
   "cell_type": "code",
   "execution_count": null,
   "metadata": {},
   "outputs": [],
   "source": [
    "path_raw = Path('data/tcga/raw')\n",
    "\n",
    "cancer_types = ['ACC', 'BLCA', 'BRCA', 'CESC', 'CHOL', 'COAD', 'COAD'\n",
    "                , 'COADREAD', 'COADREAD', 'DLBC', 'ESCA', 'GBM', 'GBMLGG'\n",
    "                , 'HNSC', 'KICH', 'KIPAN', 'KIRC', 'KIRP', 'LAML', 'LGG'\n",
    "                , 'LIHC', 'LUAD', 'LUSC', 'MESO', 'OV', 'PAAD', 'PCPG'\n",
    "                , 'PRAD', 'READ', 'READ', 'SARC', 'SKCM', 'STAD', 'STES'\n",
    "                , 'TGCT', 'THCA', 'THYM', 'UCEC', 'UCEC', 'UCS', 'UVM']\n",
    "\n",
    "for cancer_type in cancer_types:\n",
    "    files = path_raw.find_files(f\"*{cancer_type}*RSEM_genes_normalized*.txt\")\n",
    "    if len(files) != 1:\n",
    "        print(f\"ERROR: Expecting one result, got {len(files)}: {files}\")\n",
    "    else:\n",
    "        df = load_filter_transform(files[0])\n",
    "        print(f\"Dataframe shape: {df.shape}\")\n",
    "        rnaseq_save(df, cancer_type, \"rna.filtered_transformed\")"
   ]
  },
  {
   "cell_type": "code",
   "execution_count": null,
   "metadata": {},
   "outputs": [],
   "source": []
  }
 ],
 "metadata": {
  "kernelspec": {
   "display_name": "mlgen",
   "language": "python",
   "name": "mlgen"
  },
  "language_info": {
   "codemirror_mode": {
    "name": "ipython",
    "version": 3
   },
   "file_extension": ".py",
   "mimetype": "text/x-python",
   "name": "python",
   "nbconvert_exporter": "python",
   "pygments_lexer": "ipython3",
   "version": "3.7.3"
  }
 },
 "nbformat": 4,
 "nbformat_minor": 2
}
