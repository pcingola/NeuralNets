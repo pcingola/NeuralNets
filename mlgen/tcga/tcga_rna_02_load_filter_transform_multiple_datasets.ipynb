{
 "cells": [
  {
   "cell_type": "markdown",
   "metadata": {},
   "source": [
    "# TCGA: Data load, filter, transform"
   ]
  },
  {
   "cell_type": "code",
   "execution_count": 1,
   "metadata": {},
   "outputs": [],
   "source": [
    "%load_ext autoreload\n",
    "%autoreload 2\n",
    "%matplotlib inline"
   ]
  },
  {
   "cell_type": "code",
   "execution_count": 2,
   "metadata": {},
   "outputs": [],
   "source": [
    "# Imports\n",
    "import pandas as pd\n",
    "\n",
    "from tcga_rna_load_filter_transform import *"
   ]
  },
  {
   "cell_type": "code",
   "execution_count": 3,
   "metadata": {},
   "outputs": [
    {
     "name": "stdout",
     "output_type": "stream",
     "text": [
      "Loading file: 'data/tcga/LUAD.rnaseqv2__illuminahiseq_rnaseqv2__unc_edu__Level_3__RSEM_genes_normalized__data.data.txt'\n",
      "Applying filter_invalid_genes, x.shape: (20531, 576)\n",
      "Applying filter_duplicated_gene_names, x.shape: (20502, 576)\n",
      "Applying filter_low_normals_count, x.shape: (20500, 576)\n",
      "Applying filter_too_many_missing, x.shape: (17563, 576)\n",
      "Applying filter_non_normals, x.shape: (16079, 576)\n",
      "Failed tests: 0\n",
      "Applying logp1_normalize, x.shape: (11711, 576)\n",
      "Applying rename_genes, x.shape: (11711, 576)\n",
      "Dataframe shape: (11711, 576)\n",
      "Saving to file: 'data/tcga/LUAD.filtered_transformed.csv'\n",
      "Loading file: 'data/tcga/LUSC.rnaseqv2__illuminahiseq_rnaseqv2__unc_edu__Level_3__RSEM_genes_normalized__data.data.txt'\n",
      "Applying filter_invalid_genes, x.shape: (20531, 552)\n",
      "Applying filter_duplicated_gene_names, x.shape: (20502, 552)\n",
      "Applying filter_low_normals_count, x.shape: (20500, 552)\n",
      "Applying filter_too_many_missing, x.shape: (17753, 552)\n",
      "Applying filter_non_normals, x.shape: (16197, 552)\n",
      "Failed tests: 0\n",
      "Applying logp1_normalize, x.shape: (13225, 552)\n",
      "Applying rename_genes, x.shape: (13225, 552)\n",
      "Dataframe shape: (13225, 552)\n",
      "Saving to file: 'data/tcga/LUSC.filtered_transformed.csv'\n"
     ]
    }
   ],
   "source": [
    "for cancer_type in ['LUAD', 'LUSC']:\n",
    "    df = load_filter_transform(cancer_type)\n",
    "    print(f\"Dataframe shape: {df.shape}\")\n",
    "    rnaseq_save(df, cancer_type, \"filtered_transformed\")"
   ]
  }
 ],
 "metadata": {
  "kernelspec": {
   "display_name": "mlgen",
   "language": "python",
   "name": "mlgen"
  },
  "language_info": {
   "codemirror_mode": {
    "name": "ipython",
    "version": 3
   },
   "file_extension": ".py",
   "mimetype": "text/x-python",
   "name": "python",
   "nbconvert_exporter": "python",
   "pygments_lexer": "ipython3",
   "version": "3.7.3"
  }
 },
 "nbformat": 4,
 "nbformat_minor": 2
}
