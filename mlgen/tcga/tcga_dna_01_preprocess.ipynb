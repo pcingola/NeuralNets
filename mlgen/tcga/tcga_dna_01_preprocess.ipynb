{
 "cells": [
  {
   "cell_type": "markdown",
   "metadata": {},
   "source": [
    "# TCGA: Pre-processing DNA mutations"
   ]
  },
  {
   "cell_type": "code",
   "execution_count": 1,
   "metadata": {},
   "outputs": [],
   "source": [
    "%load_ext autoreload\n",
    "%autoreload 2\n",
    "%matplotlib inline"
   ]
  },
  {
   "cell_type": "code",
   "execution_count": 2,
   "metadata": {},
   "outputs": [],
   "source": [
    "# Imports\n",
    "import pandas as pd\n",
    "\n",
    "from pathlib import Path\n",
    "from util import *\n",
    "from tcga_dna import *"
   ]
  },
  {
   "cell_type": "markdown",
   "metadata": {},
   "source": [
    "# Load and pre-process DNA mutations\n",
    "Load all mutations, filter them and convert them in a single dataframe per cancer type"
   ]
  },
  {
   "cell_type": "code",
   "execution_count": 3,
   "metadata": {},
   "outputs": [
    {
     "name": "stdout",
     "output_type": "stream",
     "text": [
      "Adding cancer type 'PAAD'\n",
      "Adding cancer type 'ACC'\n",
      "Adding cancer type 'LUAD'\n",
      "Adding cancer type 'READ'\n",
      "Adding cancer type 'LUSC'\n",
      "Adding cancer type 'ESCA'\n",
      "Adding cancer type 'GBMLGG'\n",
      "Adding cancer type 'STAD'\n",
      "Adding cancer type 'OV'\n",
      "Adding cancer type 'DLBC'\n",
      "Adding cancer type 'LGG'\n",
      "Adding cancer type 'UCEC'\n",
      "Adding cancer type 'PRAD'\n",
      "Adding cancer type 'CESC'\n",
      "Adding cancer type 'COADREAD'\n",
      "Adding cancer type 'UVM'\n",
      "Adding cancer type 'GBM'\n",
      "Adding cancer type 'THYM'\n",
      "Adding cancer type 'PCPG'\n",
      "Adding cancer type 'STES'\n",
      "Adding cancer type 'KIRC'\n",
      "Adding cancer type 'UCS'\n",
      "Adding cancer type 'SKCM'\n",
      "ERROR reading file 'data/tcga/raw/gdac.broadinstitute.org_SKCM.Mutation_Packager_Calls.Level_3.2016012800.0.0/TCGA-IH-A3EA-01.maf.txt'\n",
      "Adding cancer type 'BRCA'\n",
      "Adding cancer type 'TGCT'\n",
      "Adding cancer type 'CHOL'\n",
      "Adding cancer type 'LIHC'\n",
      "Adding cancer type 'HNSC'\n",
      "Adding cancer type 'LAML'\n",
      "Adding cancer type 'KIPAN'\n",
      "Adding cancer type 'COAD'\n",
      "Adding cancer type 'KICH'\n",
      "Adding cancer type 'SARC'\n",
      "Adding cancer type 'BLCA'\n",
      "Adding cancer type 'THCA'\n",
      "Adding cancer type 'KIRP'\n"
     ]
    }
   ],
   "source": [
    "path_raw = Path('data/tcga/raw')\n",
    "sample_by_cancer_type = process_maf_dir(path_raw)"
   ]
  },
  {
   "cell_type": "markdown",
   "metadata": {},
   "source": [
    "### Convert all "
   ]
  },
  {
   "cell_type": "code",
   "execution_count": 4,
   "metadata": {},
   "outputs": [
    {
     "name": "stdout",
     "output_type": "stream",
     "text": [
      "Cancer type: PAAD\n",
      "Saving to file 'data/tcga/PAAD.dna.mutations_by_gene.csv'\n",
      "Cancer type: ACC\n",
      "Saving to file 'data/tcga/ACC.dna.mutations_by_gene.csv'\n",
      "Cancer type: LUAD\n",
      "Saving to file 'data/tcga/LUAD.dna.mutations_by_gene.csv'\n",
      "Cancer type: READ\n",
      "Saving to file 'data/tcga/READ.dna.mutations_by_gene.csv'\n",
      "Cancer type: LUSC\n",
      "Saving to file 'data/tcga/LUSC.dna.mutations_by_gene.csv'\n",
      "Cancer type: ESCA\n",
      "Saving to file 'data/tcga/ESCA.dna.mutations_by_gene.csv'\n",
      "Cancer type: GBMLGG\n",
      "Saving to file 'data/tcga/GBMLGG.dna.mutations_by_gene.csv'\n",
      "Cancer type: STAD\n",
      "Saving to file 'data/tcga/STAD.dna.mutations_by_gene.csv'\n",
      "Cancer type: OV\n",
      "Saving to file 'data/tcga/OV.dna.mutations_by_gene.csv'\n",
      "Cancer type: DLBC\n",
      "Saving to file 'data/tcga/DLBC.dna.mutations_by_gene.csv'\n",
      "Cancer type: LGG\n",
      "Saving to file 'data/tcga/LGG.dna.mutations_by_gene.csv'\n",
      "Cancer type: UCEC\n",
      "Saving to file 'data/tcga/UCEC.dna.mutations_by_gene.csv'\n",
      "Cancer type: PRAD\n",
      "Saving to file 'data/tcga/PRAD.dna.mutations_by_gene.csv'\n",
      "Cancer type: CESC\n",
      "Saving to file 'data/tcga/CESC.dna.mutations_by_gene.csv'\n",
      "Cancer type: COADREAD\n",
      "Saving to file 'data/tcga/COADREAD.dna.mutations_by_gene.csv'\n",
      "Cancer type: UVM\n",
      "Saving to file 'data/tcga/UVM.dna.mutations_by_gene.csv'\n",
      "Cancer type: GBM\n",
      "Saving to file 'data/tcga/GBM.dna.mutations_by_gene.csv'\n",
      "Cancer type: THYM\n",
      "Saving to file 'data/tcga/THYM.dna.mutations_by_gene.csv'\n",
      "Cancer type: PCPG\n",
      "Saving to file 'data/tcga/PCPG.dna.mutations_by_gene.csv'\n",
      "Cancer type: STES\n",
      "Saving to file 'data/tcga/STES.dna.mutations_by_gene.csv'\n",
      "Cancer type: KIRC\n",
      "Saving to file 'data/tcga/KIRC.dna.mutations_by_gene.csv'\n",
      "Cancer type: UCS\n",
      "Saving to file 'data/tcga/UCS.dna.mutations_by_gene.csv'\n",
      "Cancer type: SKCM\n",
      "Saving to file 'data/tcga/SKCM.dna.mutations_by_gene.csv'\n",
      "Cancer type: BRCA\n",
      "Saving to file 'data/tcga/BRCA.dna.mutations_by_gene.csv'\n",
      "Cancer type: TGCT\n",
      "Saving to file 'data/tcga/TGCT.dna.mutations_by_gene.csv'\n",
      "Cancer type: CHOL\n",
      "Saving to file 'data/tcga/CHOL.dna.mutations_by_gene.csv'\n",
      "Cancer type: LIHC\n",
      "Saving to file 'data/tcga/LIHC.dna.mutations_by_gene.csv'\n",
      "Cancer type: HNSC\n",
      "Saving to file 'data/tcga/HNSC.dna.mutations_by_gene.csv'\n",
      "Cancer type: LAML\n",
      "Saving to file 'data/tcga/LAML.dna.mutations_by_gene.csv'\n",
      "Cancer type: KIPAN\n",
      "Saving to file 'data/tcga/KIPAN.dna.mutations_by_gene.csv'\n",
      "Cancer type: COAD\n",
      "Saving to file 'data/tcga/COAD.dna.mutations_by_gene.csv'\n",
      "Cancer type: KICH\n",
      "Saving to file 'data/tcga/KICH.dna.mutations_by_gene.csv'\n",
      "Cancer type: SARC\n",
      "Saving to file 'data/tcga/SARC.dna.mutations_by_gene.csv'\n",
      "Cancer type: BLCA\n",
      "Saving to file 'data/tcga/BLCA.dna.mutations_by_gene.csv'\n",
      "Cancer type: THCA\n",
      "Saving to file 'data/tcga/THCA.dna.mutations_by_gene.csv'\n",
      "Cancer type: KIRP\n",
      "Saving to file 'data/tcga/KIRP.dna.mutations_by_gene.csv'\n"
     ]
    }
   ],
   "source": [
    "path_save = Path('data/tcga')\n",
    "\n",
    "df_by_cancer_type = dict()\n",
    "for cancer_type in sample_by_cancer_type.keys():\n",
    "    by_sample = sample_by_cancer_type[cancer_type]\n",
    "    df_by_cancer_type[cancer_type] = variants_df(sample_by_cancer_type[cancer_type])\n",
    "    file = f\"{path_save}/{cancer_type}.dna.mutations_by_gene.csv\"\n",
    "    print(f\"Saving to file '{file}'\")\n",
    "    df_by_cancer_type[cancer_type].to_csv(file)"
   ]
  },
  {
   "cell_type": "code",
   "execution_count": null,
   "metadata": {},
   "outputs": [],
   "source": []
  }
 ],
 "metadata": {
  "kernelspec": {
   "display_name": "mlgen",
   "language": "python",
   "name": "mlgen"
  },
  "language_info": {
   "codemirror_mode": {
    "name": "ipython",
    "version": 3
   },
   "file_extension": ".py",
   "mimetype": "text/x-python",
   "name": "python",
   "nbconvert_exporter": "python",
   "pygments_lexer": "ipython3",
   "version": "3.7.3"
  }
 },
 "nbformat": 4,
 "nbformat_minor": 2
}
