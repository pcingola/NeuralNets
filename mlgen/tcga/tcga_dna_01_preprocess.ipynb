{
 "cells": [
  {
   "cell_type": "markdown",
   "metadata": {},
   "source": [
    "# TCGA: Pre-processing DNA mutations"
   ]
  },
  {
   "cell_type": "code",
   "execution_count": 1,
   "metadata": {},
   "outputs": [],
   "source": [
    "%load_ext autoreload\n",
    "%autoreload 2\n",
    "%matplotlib inline"
   ]
  },
  {
   "cell_type": "code",
   "execution_count": 2,
   "metadata": {},
   "outputs": [],
   "source": [
    "# Imports\n",
    "import pandas as pd\n",
    "\n",
    "from pathlib import Path\n",
    "from util import *\n",
    "from tcga_dna import *"
   ]
  },
  {
   "cell_type": "markdown",
   "metadata": {},
   "source": [
    "# Load and pre-process DNA mutations\n",
    "Load all mutations, filter them and convert them in a single dataframe per cancer type"
   ]
  },
  {
   "cell_type": "code",
   "execution_count": null,
   "metadata": {},
   "outputs": [
    {
     "name": "stdout",
     "output_type": "stream",
     "text": [
      "Adding cancer type 'PAAD'\n",
      "Adding cancer type 'ACC'\n",
      "Adding cancer type 'LUAD'\n",
      "Adding cancer type 'READ'\n",
      "Adding cancer type 'LUSC'\n",
      "Adding cancer type 'ESCA'\n"
     ]
    }
   ],
   "source": [
    "path = Path('data/tcga')\n",
    "sample_by_cancer_type = process_maf_dir(path)"
   ]
  },
  {
   "cell_type": "markdown",
   "metadata": {},
   "source": [
    "### Convert all "
   ]
  },
  {
   "cell_type": "code",
   "execution_count": null,
   "metadata": {},
   "outputs": [],
   "source": [
    "df_by_cancer_type = dict()\n",
    "for cancer_type in sample_by_cancer_type.keys():\n",
    "    print(f\"Cancer type: {cancer_type}\")\n",
    "    by_sample = sample_by_cancer_type[cancer_type]\n",
    "    df_by_cancer_type[cancer_type] = variants_df(sample_by_cancer_type[cancer_type])\n",
    "    file = f\"{path}/{cancer_type}.dna.mutations_by_gene.csv\"\n",
    "    print(f\"Saving to file '{file}'\")\n",
    "    df_by_cancer_type[cancer_type].to_csv(file)"
   ]
  }
 ],
 "metadata": {
  "kernelspec": {
   "display_name": "mlgen",
   "language": "python",
   "name": "mlgen"
  },
  "language_info": {
   "codemirror_mode": {
    "name": "ipython",
    "version": 3
   },
   "file_extension": ".py",
   "mimetype": "text/x-python",
   "name": "python",
   "nbconvert_exporter": "python",
   "pygments_lexer": "ipython3",
   "version": "3.7.3"
  }
 },
 "nbformat": 4,
 "nbformat_minor": 2
}
